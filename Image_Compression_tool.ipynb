{
  "metadata": {
    "kernelspec": {
      "language": "python",
      "display_name": "Python 3",
      "name": "python3"
    },
    "language_info": {
      "pygments_lexer": "ipython3",
      "nbconvert_exporter": "python",
      "version": "3.6.4",
      "file_extension": ".py",
      "codemirror_mode": {
        "name": "ipython",
        "version": 3
      },
      "name": "python",
      "mimetype": "text/x-python"
    },
    "colab": {
      "provenance": [],
      "include_colab_link": true
    }
  },
  "nbformat_minor": 0,
  "nbformat": 4,
  "cells": [
    {
      "cell_type": "markdown",
      "metadata": {
        "id": "view-in-github",
        "colab_type": "text"
      },
      "source": [
        "<a href=\"https://colab.research.google.com/github/Shifana2003/Naan-mudhalvan-projects/blob/main/Image_Compression_tool.ipynb\" target=\"_parent\"><img src=\"https://colab.research.google.com/assets/colab-badge.svg\" alt=\"Open In Colab\"/></a>"
      ]
    },
    {
      "cell_type": "markdown",
      "source": [
        "### Import Libraries"
      ],
      "metadata": {
        "id": "1n4sIyJslbca"
      }
    },
    {
      "cell_type": "code",
      "source": [
        "import numpy as np\n",
        "import matplotlib.pyplot as plt\n",
        "from keras import Sequential\n",
        "from keras.layers import Dense, Conv2D, MaxPooling2D, UpSampling2D\n",
        "from keras.datasets import mnist"
      ],
      "metadata": {
        "execution": {
          "iopub.status.busy": "2022-07-09T12:32:56.716228Z",
          "iopub.execute_input": "2022-07-09T12:32:56.71665Z",
          "iopub.status.idle": "2022-07-09T12:32:56.722023Z",
          "shell.execute_reply.started": "2022-07-09T12:32:56.716614Z",
          "shell.execute_reply": "2022-07-09T12:32:56.721203Z"
        },
        "trusted": true,
        "id": "yZzFPtSHlbcc"
      },
      "execution_count": 1,
      "outputs": []
    },
    {
      "cell_type": "markdown",
      "source": [
        "### Load the Dataset"
      ],
      "metadata": {
        "id": "3P7IO5welbcf"
      }
    },
    {
      "cell_type": "code",
      "source": [
        "(x_train, _), (x_test, _) = mnist.load_data()"
      ],
      "metadata": {
        "execution": {
          "iopub.status.busy": "2022-07-09T12:32:56.919328Z",
          "iopub.execute_input": "2022-07-09T12:32:56.920113Z",
          "iopub.status.idle": "2022-07-09T12:32:57.248003Z",
          "shell.execute_reply.started": "2022-07-09T12:32:56.920074Z",
          "shell.execute_reply": "2022-07-09T12:32:57.247083Z"
        },
        "trusted": true,
        "id": "iT73v-Ralbcg"
      },
      "execution_count": 10,
      "outputs": []
    },
    {
      "cell_type": "code",
      "source": [
        "# normalize the image data\n",
        "x_train = x_train.astype('float32') / 255\n",
        "x_test = x_test.astype('float32') / 255"
      ],
      "metadata": {
        "execution": {
          "iopub.status.busy": "2022-07-09T12:32:57.2498Z",
          "iopub.execute_input": "2022-07-09T12:32:57.2509Z",
          "iopub.status.idle": "2022-07-09T12:32:57.332892Z",
          "shell.execute_reply.started": "2022-07-09T12:32:57.250859Z",
          "shell.execute_reply": "2022-07-09T12:32:57.331724Z"
        },
        "trusted": true,
        "id": "pDSoA-mDlbch"
      },
      "execution_count": 11,
      "outputs": []
    },
    {
      "cell_type": "code",
      "source": [
        "# reshape in the input data for the model\n",
        "x_train = x_train.reshape(len(x_train), 28, 28, 1)\n",
        "x_test = x_test.reshape(len(x_test), 28, 28, 1)\n",
        "x_test.shape"
      ],
      "metadata": {
        "execution": {
          "iopub.status.busy": "2022-07-09T12:32:57.337329Z",
          "iopub.execute_input": "2022-07-09T12:32:57.337691Z",
          "iopub.status.idle": "2022-07-09T12:32:57.345073Z",
          "shell.execute_reply.started": "2022-07-09T12:32:57.337658Z",
          "shell.execute_reply": "2022-07-09T12:32:57.344035Z"
        },
        "trusted": true,
        "id": "HeeepxQ6lbci",
        "outputId": "8d459d1d-e18e-4ebf-a05a-988f3aa919c9",
        "colab": {
          "base_uri": "https://localhost:8080/"
        }
      },
      "execution_count": 4,
      "outputs": [
        {
          "output_type": "execute_result",
          "data": {
            "text/plain": [
              "(10000, 28, 28, 1)"
            ]
          },
          "metadata": {},
          "execution_count": 4
        }
      ]
    },
    {
      "cell_type": "markdown",
      "source": [
        "### Exploratory Data Analysis"
      ],
      "metadata": {
        "id": "YScd6AXVlbcj"
      }
    },
    {
      "cell_type": "code",
      "source": [
        "# randomly select input image\n",
        "index = np.random.randint(len(x_test))\n",
        "# plot the image\n",
        "plt.imshow(x_test[index].reshape(28,28))\n",
        "plt.gray()"
      ],
      "metadata": {
        "execution": {
          "iopub.status.busy": "2022-07-09T12:32:57.462651Z",
          "iopub.execute_input": "2022-07-09T12:32:57.463139Z",
          "iopub.status.idle": "2022-07-09T12:32:57.637883Z",
          "shell.execute_reply.started": "2022-07-09T12:32:57.463092Z",
          "shell.execute_reply": "2022-07-09T12:32:57.637138Z"
        },
        "trusted": true,
        "id": "vvJ9XzG_lbck",
        "outputId": "0c007af2-d198-4643-dc7e-1099e0de1c65",
        "colab": {
          "base_uri": "https://localhost:8080/",
          "height": 430
        }
      },
      "execution_count": 5,
      "outputs": [
        {
          "output_type": "display_data",
          "data": {
            "text/plain": [
              "<Figure size 640x480 with 1 Axes>"
            ],
            "image/png": "[encoded data removed]"
          },
          "metadata": {}
        }
      ]
    },
    {
      "cell_type": "code",
      "source": [
        "# randomly select input image\n",
        "index = np.random.randint(len(x_test))\n",
        "# plot the image\n",
        "plt.imshow(x_test[index].reshape(28,28))\n",
        "plt.gray()"
      ],
      "metadata": {
        "execution": {
          "iopub.status.busy": "2022-07-09T12:32:57.639284Z",
          "iopub.execute_input": "2022-07-09T12:32:57.639731Z",
          "iopub.status.idle": "2022-07-09T12:32:57.818516Z",
          "shell.execute_reply.started": "2022-07-09T12:32:57.639702Z",
          "shell.execute_reply": "2022-07-09T12:32:57.817364Z"
        },
        "trusted": true,
        "id": "ho_wdoY2lbcm",
        "outputId": "2e13523a-e967-45ce-a098-22b991820dbb",
        "colab": {
          "base_uri": "https://localhost:8080/",
          "height": 430
        }
      },
      "execution_count": 6,
      "outputs": [
        {
          "output_type": "display_data",
          "data": {
            "text/plain": [
              "<Figure size 640x480 with 1 Axes>"
            ],
            "image/png": "[encoded data removed]"
          },
          "metadata": {}
        }
      ]
    },
    {
      "cell_type": "code",
      "source": [
        "# randomly select input image\n",
        "index = np.random.randint(len(x_test))\n",
        "# plot the image\n",
        "plt.imshow(x_test[index].reshape(28,28))\n",
        "plt.gray()"
      ],
      "metadata": {
        "execution": {
          "iopub.status.busy": "2022-07-09T12:32:57.820608Z",
          "iopub.execute_input": "2022-07-09T12:32:57.820941Z",
          "iopub.status.idle": "2022-07-09T12:32:58.00339Z",
          "shell.execute_reply.started": "2022-07-09T12:32:57.820911Z",
          "shell.execute_reply": "2022-07-09T12:32:58.002593Z"
        },
        "trusted": true,
        "id": "cqTWgCH_lbcn",
        "outputId": "53729668-809c-428a-98c3-7fe377082d7d",
        "colab": {
          "base_uri": "https://localhost:8080/",
          "height": 430
        }
      },
      "execution_count": 7,
      "outputs": [
        {
          "output_type": "display_data",
          "data": {
            "text/plain": [
              "<Figure size 640x480 with 1 Axes>"
            ],
            "image/png": "[encoded data removed]"
          },
          "metadata": {}
        }
      ]
    },
    {
      "cell_type": "markdown",
      "source": [
        "### Model Creation"
      ],
      "metadata": {
        "id": "3EMLpv2Ylbcn"
      }
    },
    {
      "cell_type": "code",
      "source": [
        "model = Sequential([\n",
        "                    # encoder network\n",
        "                    Conv2D(32, 3, activation='relu', padding='same', input_shape=(28, 28, 1)),\n",
        "                    MaxPooling2D(2, padding='same'),\n",
        "                    Conv2D(16, 3, activation='relu', padding='same'),\n",
        "                    MaxPooling2D(2, padding='same'),\n",
        "                    # decoder network\n",
        "                    Conv2D(16, 3, activation='relu', padding='same'),\n",
        "                    UpSampling2D(2),\n",
        "                    Conv2D(32, 3, activation='relu', padding='same'),\n",
        "                    UpSampling2D(2),\n",
        "                    # output layer\n",
        "                    Conv2D(1, 3, activation='sigmoid', padding='same')\n",
        "])\n",
        "\n",
        "model.compile(optimizer='adam', loss='binary_crossentropy')\n",
        "model.summary()"
      ],
      "metadata": {
        "execution": {
          "iopub.status.busy": "2022-07-09T12:32:58.004403Z",
          "iopub.execute_input": "2022-07-09T12:32:58.004939Z",
          "iopub.status.idle": "2022-07-09T12:32:58.079194Z",
          "shell.execute_reply.started": "2022-07-09T12:32:58.004904Z",
          "shell.execute_reply": "2022-07-09T12:32:58.07806Z"
        },
        "trusted": true,
        "id": "xLqRvrqzlbco",
        "outputId": "30547a1d-d052-4719-f284-452e968acee6",
        "colab": {
          "base_uri": "https://localhost:8080/"
        }
      },
      "execution_count": 8,
      "outputs": [
        {
          "output_type": "stream",
          "name": "stdout",
          "text": [
            "Model: \"sequential\"\n",
            "_________________________________________________________________\n",
            " Layer (type)                Output Shape              Param #   \n",
            "=================================================================\n",
            " conv2d (Conv2D)             (None, 28, 28, 32)        320       \n",
            "                                                                 \n",
            " max_pooling2d (MaxPooling2  (None, 14, 14, 32)        0         \n",
            " D)                                                              \n",
            "                                                                 \n",
            " conv2d_1 (Conv2D)           (None, 14, 14, 16)        4624      \n",
            "                                                                 \n",
            " max_pooling2d_1 (MaxPoolin  (None, 7, 7, 16)          0         \n",
            " g2D)                                                            \n",
            "                                                                 \n",
            " conv2d_2 (Conv2D)           (None, 7, 7, 16)          2320      \n",
            "                                                                 \n",
            " up_sampling2d (UpSampling2  (None, 14, 14, 16)        0         \n",
            " D)                                                              \n",
            "                                                                 \n",
            " conv2d_3 (Conv2D)           (None, 14, 14, 32)        4640      \n",
            "                                                                 \n",
            " up_sampling2d_1 (UpSamplin  (None, 28, 28, 32)        0         \n",
            " g2D)                                                            \n",
            "                                                                 \n",
            " conv2d_4 (Conv2D)           (None, 28, 28, 1)         289       \n",
            "                                                                 \n",
            "=================================================================\n",
            "Total params: 12193 (47.63 KB)\n",
            "Trainable params: 12193 (47.63 KB)\n",
            "Non-trainable params: 0 (0.00 Byte)\n",
            "_________________________________________________________________\n"
          ]
        }
      ]
    },
    {
      "cell_type": "code",
      "source": [
        "# train the model\n",
        "model.fit(x_train, x_train, epochs=20, batch_size=256, validation_data=(x_test, x_test))"
      ],
      "metadata": {
        "execution": {
          "iopub.status.busy": "2022-07-09T12:32:58.081895Z",
          "iopub.execute_input": "2022-07-09T12:32:58.082901Z",
          "iopub.status.idle": "2022-07-09T12:41:24.20342Z",
          "shell.execute_reply.started": "2022-07-09T12:32:58.082865Z",
          "shell.execute_reply": "2022-07-09T12:41:24.202593Z"
        },
        "trusted": true,
        "id": "vcvLJ0holbcq",
        "outputId": "2c3a7da0-ccec-4ac7-ecae-5650d0509763",
        "colab": {
          "base_uri": "https://localhost:8080/"
        }
      },
      "execution_count": 9,
      "outputs": [
        {
          "metadata": {
            "tags": null
          },
          "name": "stdout",
          "output_type": "stream",
          "text": [
            "Epoch 1/20\n",
            "235/235 [==============================] - 91s 380ms/step - loss: 0.2038 - val_loss: 0.0897\n",
            "Epoch 2/20\n",
            "235/235 [==============================] - 86s 365ms/step - loss: 0.0846 - val_loss: 0.0798\n",
            "Epoch 3/20\n",
            "235/235 [==============================] - 88s 375ms/step - loss: 0.0788 - val_loss: 0.0764\n",
            "Epoch 4/20\n",
            "235/235 [==============================] - 89s 379ms/step - loss: 0.0763 - val_loss: 0.0747\n",
            "Epoch 5/20\n",
            "235/235 [==============================] - 86s 367ms/step - loss: 0.0748 - val_loss: 0.0734\n",
            "Epoch 6/20\n",
            "235/235 [==============================] - 87s 372ms/step - loss: 0.0737 - val_loss: 0.0724\n",
            "Epoch 7/20\n",
            "235/235 [==============================] - 87s 369ms/step - loss: 0.0728 - val_loss: 0.0721\n",
            "Epoch 8/20\n",
            "235/235 [==============================] - 86s 366ms/step - loss: 0.0721 - val_loss: 0.0712\n",
            "Epoch 9/20\n",
            "235/235 [==============================] - 86s 368ms/step - loss: 0.0716 - val_loss: 0.0707\n",
            "Epoch 10/20\n",
            "235/235 [==============================] - 83s 355ms/step - loss: 0.0711 - val_loss: 0.0704\n",
            "Epoch 11/20\n",
            "235/235 [==============================] - 88s 373ms/step - loss: 0.0707 - val_loss: 0.0700\n",
            "Epoch 12/20\n",
            "235/235 [==============================] - 86s 366ms/step - loss: 0.0704 - val_loss: 0.0696\n",
            "Epoch 13/20\n",
            "235/235 [==============================] - 85s 363ms/step - loss: 0.0701 - val_loss: 0.0695\n",
            "Epoch 14/20\n",
            "235/235 [==============================] - 86s 366ms/step - loss: 0.0699 - val_loss: 0.0692\n",
            "Epoch 15/20\n",
            "235/235 [==============================] - 86s 365ms/step - loss: 0.0696 - val_loss: 0.0689\n",
            "Epoch 16/20\n",
            "235/235 [==============================] - 86s 366ms/step - loss: 0.0694 - val_loss: 0.0688\n",
            "Epoch 17/20\n",
            "235/235 [==============================] - 87s 369ms/step - loss: 0.0692 - val_loss: 0.0686\n",
            "Epoch 18/20\n",
            "235/235 [==============================] - 86s 364ms/step - loss: 0.0690 - val_loss: 0.0685\n",
            "Epoch 19/20\n",
            "235/235 [==============================] - 85s 363ms/step - loss: 0.0689 - val_loss: 0.0683\n",
            "Epoch 20/20\n",
            "235/235 [==============================] - 86s 367ms/step - loss: 0.0688 - val_loss: 0.0683\n"
          ]
        },
        {
          "output_type": "execute_result",
          "data": {
            "text/plain": [
              "<keras.src.callbacks.History at 0x7c0fbcfadf60>"
            ]
          },
          "metadata": {},
          "execution_count": 9
        }
      ]
    },
    {
      "cell_type": "markdown",
      "source": [
        "### Visualize the Results"
      ],
      "metadata": {
        "id": "giaEea2ylbcq"
      }
    },
    {
      "cell_type": "code",
      "source": [
        "# predict the results from model (get compressed images)\n",
        "pred = model.predict(x_test)"
      ],
      "metadata": {
        "execution": {
          "iopub.status.busy": "2022-07-09T12:41:24.204762Z",
          "iopub.execute_input": "2022-07-09T12:41:24.20508Z",
          "iopub.status.idle": "2022-07-09T12:41:26.912602Z",
          "shell.execute_reply.started": "2022-07-09T12:41:24.205051Z",
          "shell.execute_reply": "2022-07-09T12:41:26.911627Z"
        },
        "trusted": true,
        "id": "TbR0jMPDlbcq",
        "outputId": "7330a850-f4ce-49f4-a4a8-e84f123c6f53",
        "colab": {
          "base_uri": "https://localhost:8080/"
        }
      },
      "execution_count": 12,
      "outputs": [
        {
          "output_type": "stream",
          "name": "stdout",
          "text": [
            "313/313 [==============================] - 5s 16ms/step\n"
          ]
        }
      ]
    },
    {
      "cell_type": "code",
      "source": [
        "# randomly select input image\n",
        "index = np.random.randint(len(x_test))\n",
        "# plot the image\n",
        "plt.imshow(x_test[index].reshape(28,28))\n",
        "plt.gray()"
      ],
      "metadata": {
        "execution": {
          "iopub.status.busy": "2022-07-09T12:41:26.913908Z",
          "iopub.execute_input": "2022-07-09T12:41:26.914201Z",
          "iopub.status.idle": "2022-07-09T12:41:27.090738Z",
          "shell.execute_reply.started": "2022-07-09T12:41:26.914175Z",
          "shell.execute_reply": "2022-07-09T12:41:27.089725Z"
        },
        "trusted": true,
        "id": "QGRGC8ABlbcr",
        "outputId": "29100ee6-c1fa-4850-9639-8841e48b7e15",
        "colab": {
          "base_uri": "https://localhost:8080/",
          "height": 430
        }
      },
      "execution_count": 13,
      "outputs": [
        {
          "output_type": "display_data",
          "data": {
            "text/plain": [
              "<Figure size 640x480 with 1 Axes>"
            ],
            "image/png": "[encoded data removed]"
          },
          "metadata": {}
        }
      ]
    },
    {
      "cell_type": "code",
      "source": [
        "# visualize compressed image\n",
        "plt.imshow(pred[index].reshape(28,28))\n",
        "plt.gray()"
      ],
      "metadata": {
        "execution": {
          "iopub.status.busy": "2022-07-09T12:41:27.092178Z",
          "iopub.execute_input": "2022-07-09T12:41:27.09248Z",
          "iopub.status.idle": "2022-07-09T12:41:27.264975Z",
          "shell.execute_reply.started": "2022-07-09T12:41:27.092452Z",
          "shell.execute_reply": "2022-07-09T12:41:27.264248Z"
        },
        "trusted": true,
        "id": "hrugMCCClbcr",
        "outputId": "2a3e3cd1-cef4-4d01-9f86-edaaa3a66555",
        "colab": {
          "base_uri": "https://localhost:8080/",
          "height": 430
        }
      },
      "execution_count": 14,
      "outputs": [
        {
          "output_type": "display_data",
          "data": {
            "text/plain": [
              "<Figure size 640x480 with 1 Axes>"
            ],
            "image/png": "[encoded data removed]"
          },
          "metadata": {}
        }
      ]
    },
    {
      "cell_type": "code",
      "source": [
        "index = np.random.randint(len(x_test))\n",
        "plt.figure(figsize=(10, 4))\n",
        "# display original image\n",
        "ax = plt.subplot(1, 2, 1)\n",
        "plt.imshow(x_test[index].reshape(28,28))\n",
        "plt.gray()\n",
        "ax.get_xaxis().set_visible(False)\n",
        "ax.get_yaxis().set_visible(False)\n",
        "# display compressed image\n",
        "ax = plt.subplot(1, 2, 2)\n",
        "plt.imshow(pred[index].reshape(28,28))\n",
        "plt.gray()\n",
        "ax.get_xaxis().set_visible(False)\n",
        "ax.get_yaxis().set_visible(False)\n",
        "plt.show()"
      ],
      "metadata": {
        "execution": {
          "iopub.status.busy": "2022-07-09T12:41:27.265972Z",
          "iopub.execute_input": "2022-07-09T12:41:27.266942Z",
          "iopub.status.idle": "2022-07-09T12:41:27.436348Z",
          "shell.execute_reply.started": "2022-07-09T12:41:27.266911Z",
          "shell.execute_reply": "2022-07-09T12:41:27.435593Z"
        },
        "trusted": true,
        "id": "58iyWim5lbcs",
        "outputId": "9605e919-2503-4a56-e900-859fa9e646e6",
        "colab": {
          "base_uri": "https://localhost:8080/",
          "height": 345
        }
      },
      "execution_count": 15,
      "outputs": [
        {
          "output_type": "display_data",
          "data": {
            "text/plain": [
              "<Figure size 1000x400 with 2 Axes>"
            ],
            "image/png": "[encoded data removed]"
          },
          "metadata": {}
        }
      ]
    },
    {
      "cell_type": "code",
      "source": [
        "index = np.random.randint(len(x_test))\n",
        "plt.figure(figsize=(10, 4))\n",
        "# display original image\n",
        "ax = plt.subplot(1, 2, 1)\n",
        "plt.imshow(x_test[index].reshape(28,28))\n",
        "plt.gray()\n",
        "ax.get_xaxis().set_visible(False)\n",
        "ax.get_yaxis().set_visible(False)\n",
        "# display compressed image\n",
        "ax = plt.subplot(1, 2, 2)\n",
        "plt.imshow(pred[index].reshape(28,28))\n",
        "plt.gray()\n",
        "ax.get_xaxis().set_visible(False)\n",
        "ax.get_yaxis().set_visible(False)\n",
        "plt.show()"
      ],
      "metadata": {
        "execution": {
          "iopub.status.busy": "2022-07-09T12:41:27.438453Z",
          "iopub.execute_input": "2022-07-09T12:41:27.438804Z",
          "iopub.status.idle": "2022-07-09T12:41:27.611784Z",
          "shell.execute_reply.started": "2022-07-09T12:41:27.438774Z",
          "shell.execute_reply": "2022-07-09T12:41:27.610988Z"
        },
        "trusted": true,
        "id": "6ULEx7qKlbcs",
        "outputId": "0e462c85-15d2-4296-8f66-a468cff4f400",
        "colab": {
          "base_uri": "https://localhost:8080/",
          "height": 345
        }
      },
      "execution_count": 16,
      "outputs": [
        {
          "output_type": "display_data",
          "data": {
            "text/plain": [
              "<Figure size 1000x400 with 2 Axes>"
            ],
            "image/png": "[encoded data removed]"
          },
          "metadata": {}
        }
      ]
    }
  ]
}