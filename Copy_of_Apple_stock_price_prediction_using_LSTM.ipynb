{
  "metadata": {
    "kernelspec": {
      "language": "python",
      "display_name": "Python 3",
      "name": "python3"
    },
    "language_info": {
      "pygments_lexer": "ipython3",
      "nbconvert_exporter": "python",
      "version": "3.6.4",
      "file_extension": ".py",
      "codemirror_mode": {
        "name": "ipython",
        "version": 3
      },
      "name": "python",
      "mimetype": "text/x-python"
    },
    "colab": {
      "provenance": [],
      "include_colab_link": true
    }
  },
  "nbformat_minor": 0,
  "nbformat": 4,
  "cells": [
    {
      "cell_type": "markdown",
      "metadata": {
        "id": "view-in-github",
        "colab_type": "text"
      },
      "source": [
        "<a href=\"https://colab.research.google.com/github/Shifana2003/Naan-mudhalvan-projects/blob/main/Copy_of_Apple_stock_price_prediction_using_LSTM.ipynb\" target=\"_parent\"><img src=\"https://colab.research.google.com/assets/colab-badge.svg\" alt=\"Open In Colab\"/></a>"
      ]
    },
    {
      "source": [
        "\n",
        "# IMPORTANT: RUN THIS CELL IN ORDER TO IMPORT YOUR KAGGLE DATA SOURCES\n",
        "# TO THE CORRECT LOCATION (/kaggle/input) IN YOUR NOTEBOOK,\n",
        "# THEN FEEL FREE TO DELETE THIS CELL.\n",
        "# NOTE: THIS NOTEBOOK ENVIRONMENT DIFFERS FROM KAGGLE'S PYTHON\n",
        "# ENVIRONMENT SO THERE MAY BE MISSING LIBRARIES USED BY YOUR\n",
        "# NOTEBOOK.\n",
        "\n",
        "import os\n",
        "import sys\n",
        "from tempfile import NamedTemporaryFile\n",
        "from urllib.request import urlopen\n",
        "from urllib.parse import unquote, urlparse\n",
        "from urllib.error import HTTPError\n",
        "from zipfile import ZipFile\n",
        "import tarfile\n",
        "import shutil\n",
        "\n",
        "CHUNK_SIZE = 40960\n",
        "DATA_SOURCE_MAPPING = 'stock-price-prediction-of-apple-inc:https%3A%2F%2Fstorage.googleapis.com%2Fkaggle-data-sets%2F1668559%2F2736918%2Fbundle%2Farchive.zip%3FX-Goog-Algorithm%3DGOOG4-RSA-SHA256%26X-Goog-Credential%3Dgcp-kaggle-com%2540kaggle-161607.iam.gserviceaccount.com%252F20240430%252Fauto%252Fstorage%252Fgoog4_request%26X-Goog-Date%3D20240430T042820Z%26X-Goog-Expires%3D259200%26X-Goog-SignedHeaders%3Dhost%26X-Goog-Signature%3D2a1403d78d06b27b900b80d6f53e0154aa29d6f84303dea265763aab4f061277cd15d39bd801565306f54e25aa73d6d8cd236fd164e47b16c68d723dc6672f7adbe58f8b90d4e15f65b530ad80833b809e404431d65c05cad04b13f2a6b4ecdc9821f2ba71efd6e3469db45817b8833ab30dfc5b69ba2ffded5caba02166396f1eaca28d96b4ebfec7c5cdf2e46a8ec562dc0c355f8ed74ea779810f5987d148bcc93da9fce16b4d0a63014218cf6dec73d528ebe60b97112d83767c9b0addf987d8f88a3ae970c107c18c2da79c54d18e606a319606f0610b102dfa37eeba3e412ce7ac7afcf24053e0b48b0b08f36fb1e620f1eff9bc9248390018e078d7a1'\n",
        "\n",
        "KAGGLE_INPUT_PATH='/kaggle/input'\n",
        "KAGGLE_WORKING_PATH='/kaggle/working'\n",
        "KAGGLE_SYMLINK='kaggle'\n",
        "\n",
        "!umount /kaggle/input/ 2> /dev/null\n",
        "shutil.rmtree('/kaggle/input', ignore_errors=True)\n",
        "os.makedirs(KAGGLE_INPUT_PATH, 0o777, exist_ok=True)\n",
        "os.makedirs(KAGGLE_WORKING_PATH, 0o777, exist_ok=True)\n",
        "\n",
        "try:\n",
        "  os.symlink(KAGGLE_INPUT_PATH, os.path.join(\"..\", 'input'), target_is_directory=True)\n",
        "except FileExistsError:\n",
        "  pass\n",
        "try:\n",
        "  os.symlink(KAGGLE_WORKING_PATH, os.path.join(\"..\", 'working'), target_is_directory=True)\n",
        "except FileExistsError:\n",
        "  pass\n",
        "\n",
        "for data_source_mapping in DATA_SOURCE_MAPPING.split(','):\n",
        "    directory, download_url_encoded = data_source_mapping.split(':')\n",
        "    download_url = unquote(download_url_encoded)\n",
        "    filename = urlparse(download_url).path\n",
        "    destination_path = os.path.join(KAGGLE_INPUT_PATH, directory)\n",
        "    try:\n",
        "        with urlopen(download_url) as fileres, NamedTemporaryFile() as tfile:\n",
        "            total_length = fileres.headers['content-length']\n",
        "            print(f'Downloading {directory}, {total_length} bytes compressed')\n",
        "            dl = 0\n",
        "            data = fileres.read(CHUNK_SIZE)\n",
        "            while len(data) > 0:\n",
        "                dl += len(data)\n",
        "                tfile.write(data)\n",
        "                done = int(50 * dl / int(total_length))\n",
        "                sys.stdout.write(f\"\\r[{'=' * done}{' ' * (50-done)}] {dl} bytes downloaded\")\n",
        "                sys.stdout.flush()\n",
        "                data = fileres.read(CHUNK_SIZE)\n",
        "            if filename.endswith('.zip'):\n",
        "              with ZipFile(tfile) as zfile:\n",
        "                zfile.extractall(destination_path)\n",
        "            else:\n",
        "              with tarfile.open(tfile.name) as tarfile:\n",
        "                tarfile.extractall(destination_path)\n",
        "            print(f'\\nDownloaded and uncompressed: {directory}')\n",
        "    except HTTPError as e:\n",
        "        print(f'Failed to load (likely expired) {download_url} to path {destination_path}')\n",
        "        continue\n",
        "    except OSError as e:\n",
        "        print(f'Failed to load {download_url} to path {destination_path}')\n",
        "        continue\n",
        "\n",
        "print('Data source import complete.')\n"
      ],
      "metadata": {
        "id": "J9oEh35nQ-29",
        "outputId": "f9e043bb-8de2-4612-8b47-c1d7a0764611",
        "colab": {
          "base_uri": "https://localhost:8080/"
        }
      },
      "cell_type": "code",
      "outputs": [
        {
          "output_type": "stream",
          "name": "stdout",
          "text": [
            "Downloading stock-price-prediction-of-apple-inc, 29349 bytes compressed\n",
            "\r[==================================================] 29349 bytes downloaded\n",
            "Downloaded and uncompressed: stock-price-prediction-of-apple-inc\n",
            "Data source import complete.\n"
          ]
        }
      ],
      "execution_count": 1
    },
    {
      "cell_type": "code",
      "source": [
        "# This Python 3 environment comes with many helpful analytics libraries installed\n",
        "# It is defined by the kaggle/python Docker image: https://github.com/kaggle/docker-python\n",
        "# For example, here's several helpful packages to load\n",
        "\n",
        "import numpy as np # linear algebra\n",
        "import pandas as pd # data processing, CSV file I/O (e.g. pd.read_csv)\n",
        "\n",
        "# Input data files are available in the read-only \"../input/\" directory\n",
        "# For example, running this (by clicking run or pressing Shift+Enter) will list all files under the input directory\n",
        "\n",
        "import os\n",
        "for dirname, _, filenames in os.walk('/kaggle/input'):\n",
        "    for filename in filenames:\n",
        "        print(os.path.join(dirname, filename))\n",
        "\n",
        "# You can write up to 20GB to the current directory (/kaggle/working/) that gets preserved as output when you create a version using \"Save & Run All\"\n",
        "# You can also write temporary files to /kaggle/temp/, but they won't be saved outside of the current session"
      ],
      "metadata": {
        "_uuid": "8f2839f25d086af736a60e9eeb907d3b93b6e0e5",
        "_cell_guid": "b1076dfc-b9ad-4769-8c92-a6c4dae69d19",
        "execution": {
          "iopub.status.busy": "2021-10-27T14:18:06.749541Z",
          "iopub.execute_input": "2021-10-27T14:18:06.750183Z",
          "iopub.status.idle": "2021-10-27T14:18:06.77742Z",
          "shell.execute_reply.started": "2021-10-27T14:18:06.750095Z",
          "shell.execute_reply": "2021-10-27T14:18:06.776521Z"
        },
        "trusted": true,
        "id": "Z8s5koGOQ-3A",
        "outputId": "a708aca0-1b26-4f27-9b7f-d8e2921e72db",
        "colab": {
          "base_uri": "https://localhost:8080/"
        }
      },
      "execution_count": 2,
      "outputs": [
        {
          "output_type": "stream",
          "name": "stdout",
          "text": [
            "/kaggle/input/stock-price-prediction-of-apple-inc/apple_share_price.csv\n"
          ]
        }
      ]
    },
    {
      "cell_type": "code",
      "source": [
        "import pandas as pd\n",
        "import numpy as np\n",
        "from numpy import array\n",
        "import math\n",
        "import matplotlib.pyplot as plt\n",
        "from sklearn.preprocessing import MinMaxScaler\n",
        "import tensorflow as tf\n",
        "from tensorflow.keras.models import Sequential\n",
        "from tensorflow.keras.layers import Dense\n",
        "from tensorflow.keras.layers import LSTM\n",
        "%matplotlib inline"
      ],
      "metadata": {
        "execution": {
          "iopub.status.busy": "2021-10-27T14:18:06.779176Z",
          "iopub.execute_input": "2021-10-27T14:18:06.77952Z",
          "iopub.status.idle": "2021-10-27T14:18:12.021734Z",
          "shell.execute_reply.started": "2021-10-27T14:18:06.779468Z",
          "shell.execute_reply": "2021-10-27T14:18:12.020893Z"
        },
        "trusted": true,
        "id": "1DPTc101Q-3A"
      },
      "execution_count": 7,
      "outputs": []
    },
    {
      "cell_type": "code",
      "source": [
        "df=pd.read_csv('../input/stock-price-prediction-of-apple-inc/apple_share_price.csv')\n",
        "df.head()"
      ],
      "metadata": {
        "execution": {
          "iopub.status.busy": "2021-10-27T14:18:12.023006Z",
          "iopub.execute_input": "2021-10-27T14:18:12.023331Z",
          "iopub.status.idle": "2021-10-27T14:18:12.081242Z",
          "shell.execute_reply.started": "2021-10-27T14:18:12.02329Z",
          "shell.execute_reply": "2021-10-27T14:18:12.079905Z"
        },
        "trusted": true,
        "id": "rkzy9UqfQ-3B",
        "colab": {
          "base_uri": "https://localhost:8080/",
          "height": 206
        },
        "outputId": "42a5071e-55d6-46c3-cf93-ae605c8ce22d"
      },
      "execution_count": 3,
      "outputs": [
        {
          "output_type": "execute_result",
          "data": {
            "text/plain": [
              "        Date    Open    High     Low   Close    Volume\n",
              "0  11-Aug-17  156.60  158.57  156.07  157.48  26257096\n",
              "1  10-Aug-17  159.90  160.00  154.63  155.32  40804273\n",
              "2   9-Aug-17  159.26  161.27  159.11  161.06  26131530\n",
              "3   8-Aug-17  158.60  161.83  158.27  160.08  36205896\n",
              "4   7-Aug-17  157.06  158.92  156.67  158.81  21870321"
            ],
            "text/html": [
              "\n",
              "  <div id=\"df-86c6396c-f937-45e0-9a6c-bfc7fe4101cf\" class=\"colab-df-container\">\n",
              "    <div>\n",
              "<style scoped>\n",
              "    .dataframe tbody tr th:only-of-type {\n",
              "        vertical-align: middle;\n",
              "    }\n",
              "\n",
              "    .dataframe tbody tr th {\n",
              "        vertical-align: top;\n",
              "    }\n",
              "\n",
              "    .dataframe thead th {\n",
              "        text-align: right;\n",
              "    }\n",
              "</style>\n",
              "<table border=\"1\" class=\"dataframe\">\n",
              "  <thead>\n",
              "    <tr style=\"text-align: right;\">\n",
              "      <th></th>\n",
              "      <th>Date</th>\n",
              "      <th>Open</th>\n",
              "      <th>High</th>\n",
              "      <th>Low</th>\n",
              "      <th>Close</th>\n",
              "      <th>Volume</th>\n",
              "    </tr>\n",
              "  </thead>\n",
              "  <tbody>\n",
              "    <tr>\n",
              "      <th>0</th>\n",
              "      <td>11-Aug-17</td>\n",
              "      <td>156.60</td>\n",
              "      <td>158.57</td>\n",
              "      <td>156.07</td>\n",
              "      <td>157.48</td>\n",
              "      <td>26257096</td>\n",
              "    </tr>\n",
              "    <tr>\n",
              "      <th>1</th>\n",
              "      <td>10-Aug-17</td>\n",
              "      <td>159.90</td>\n",
              "      <td>160.00</td>\n",
              "      <td>154.63</td>\n",
              "      <td>155.32</td>\n",
              "      <td>40804273</td>\n",
              "    </tr>\n",
              "    <tr>\n",
              "      <th>2</th>\n",
              "      <td>9-Aug-17</td>\n",
              "      <td>159.26</td>\n",
              "      <td>161.27</td>\n",
              "      <td>159.11</td>\n",
              "      <td>161.06</td>\n",
              "      <td>26131530</td>\n",
              "    </tr>\n",
              "    <tr>\n",
              "      <th>3</th>\n",
              "      <td>8-Aug-17</td>\n",
              "      <td>158.60</td>\n",
              "      <td>161.83</td>\n",
              "      <td>158.27</td>\n",
              "      <td>160.08</td>\n",
              "      <td>36205896</td>\n",
              "    </tr>\n",
              "    <tr>\n",
              "      <th>4</th>\n",
              "      <td>7-Aug-17</td>\n",
              "      <td>157.06</td>\n",
              "      <td>158.92</td>\n",
              "      <td>156.67</td>\n",
              "      <td>158.81</td>\n",
              "      <td>21870321</td>\n",
              "    </tr>\n",
              "  </tbody>\n",
              "</table>\n",
              "</div>\n",
              "    <div class=\"colab-df-buttons\">\n",
              "\n",
              "  <div class=\"colab-df-container\">\n",
              "    <button class=\"colab-df-convert\" onclick=\"convertToInteractive('df-86c6396c-f937-45e0-9a6c-bfc7fe4101cf')\"\n",
              "            title=\"Convert this dataframe to an interactive table.\"\n",
              "            style=\"display:none;\">\n",
              "\n",
              "  <svg xmlns=\"http://www.w3.org/2000/svg\" height=\"24px\" viewBox=\"0 -960 960 960\">\n",
              "    <path d=\"M120-120v-720h720v720H120Zm60-500h600v-160H180v160Zm220 220h160v-160H400v160Zm0 220h160v-160H400v160ZM180-400h160v-160H180v160Zm440 0h160v-160H620v160ZM180-180h160v-160H180v160Zm440 0h160v-160H620v160Z\"/>\n",
              "  </svg>\n",
              "    </button>\n",
              "\n",
              "  <style>\n",
              "    .colab-df-container {\n",
              "      display:flex;\n",
              "      gap: 12px;\n",
              "    }\n",
              "\n",
              "    .colab-df-convert {\n",
              "      background-color: #E8F0FE;\n",
              "      border: none;\n",
              "      border-radius: 50%;\n",
              "      cursor: pointer;\n",
              "      display: none;\n",
              "      fill: #1967D2;\n",
              "      height: 32px;\n",
              "      padding: 0 0 0 0;\n",
              "      width: 32px;\n",
              "    }\n",
              "\n",
              "    .colab-df-convert:hover {\n",
              "      background-color: #E2EBFA;\n",
              "      box-shadow: 0px 1px 2px rgba(60, 64, 67, 0.3), 0px 1px 3px 1px rgba(60, 64, 67, 0.15);\n",
              "      fill: #174EA6;\n",
              "    }\n",
              "\n",
              "    .colab-df-buttons div {\n",
              "      margin-bottom: 4px;\n",
              "    }\n",
              "\n",
              "    [theme=dark] .colab-df-convert {\n",
              "      background-color: #3B4455;\n",
              "      fill: #D2E3FC;\n",
              "    }\n",
              "\n",
              "    [theme=dark] .colab-df-convert:hover {\n",
              "      background-color: #434B5C;\n",
              "      box-shadow: 0px 1px 3px 1px rgba(0, 0, 0, 0.15);\n",
              "      filter: drop-shadow(0px 1px 2px rgba(0, 0, 0, 0.3));\n",
              "      fill: #FFFFFF;\n",
              "    }\n",
              "  </style>\n",
              "\n",
              "    <script>\n",
              "      const buttonEl =\n",
              "        document.querySelector('#df-86c6396c-f937-45e0-9a6c-bfc7fe4101cf button.colab-df-convert');\n",
              "      buttonEl.style.display =\n",
              "        google.colab.kernel.accessAllowed ? 'block' : 'none';\n",
              "\n",
              "      async function convertToInteractive(key) {\n",
              "        const element = document.querySelector('#df-86c6396c-f937-45e0-9a6c-bfc7fe4101cf');\n",
              "        const dataTable =\n",
              "          await google.colab.kernel.invokeFunction('convertToInteractive',\n",
              "                                                    [key], {});\n",
              "        if (!dataTable) return;\n",
              "\n",
              "        const docLinkHtml = 'Like what you see? Visit the ' +\n",
              "          '<a target=\"_blank\" href=https://colab.research.google.com/notebooks/data_table.ipynb>data table notebook</a>'\n",
              "          + ' to learn more about interactive tables.';\n",
              "        element.innerHTML = '';\n",
              "        dataTable['output_type'] = 'display_data';\n",
              "        await google.colab.output.renderOutput(dataTable, element);\n",
              "        const docLink = document.createElement('div');\n",
              "        docLink.innerHTML = docLinkHtml;\n",
              "        element.appendChild(docLink);\n",
              "      }\n",
              "    </script>\n",
              "  </div>\n",
              "\n",
              "\n",
              "<div id=\"df-f322ff8a-6680-4efe-99f6-f982a1b8ed93\">\n",
              "  <button class=\"colab-df-quickchart\" onclick=\"quickchart('df-f322ff8a-6680-4efe-99f6-f982a1b8ed93')\"\n",
              "            title=\"Suggest charts\"\n",
              "            style=\"display:none;\">\n",
              "\n",
              "<svg xmlns=\"http://www.w3.org/2000/svg\" height=\"24px\"viewBox=\"0 0 24 24\"\n",
              "     width=\"24px\">\n",
              "    <g>\n",
              "        <path d=\"M19 3H5c-1.1 0-2 .9-2 2v14c0 1.1.9 2 2 2h14c1.1 0 2-.9 2-2V5c0-1.1-.9-2-2-2zM9 17H7v-7h2v7zm4 0h-2V7h2v10zm4 0h-2v-4h2v4z\"/>\n",
              "    </g>\n",
              "</svg>\n",
              "  </button>\n",
              "\n",
              "<style>\n",
              "  .colab-df-quickchart {\n",
              "      --bg-color: #E8F0FE;\n",
              "      --fill-color: #1967D2;\n",
              "      --hover-bg-color: #E2EBFA;\n",
              "      --hover-fill-color: #174EA6;\n",
              "      --disabled-fill-color: #AAA;\n",
              "      --disabled-bg-color: #DDD;\n",
              "  }\n",
              "\n",
              "  [theme=dark] .colab-df-quickchart {\n",
              "      --bg-color: #3B4455;\n",
              "      --fill-color: #D2E3FC;\n",
              "      --hover-bg-color: #434B5C;\n",
              "      --hover-fill-color: #FFFFFF;\n",
              "      --disabled-bg-color: #3B4455;\n",
              "      --disabled-fill-color: #666;\n",
              "  }\n",
              "\n",
              "  .colab-df-quickchart {\n",
              "    background-color: var(--bg-color);\n",
              "    border: none;\n",
              "    border-radius: 50%;\n",
              "    cursor: pointer;\n",
              "    display: none;\n",
              "    fill: var(--fill-color);\n",
              "    height: 32px;\n",
              "    padding: 0;\n",
              "    width: 32px;\n",
              "  }\n",
              "\n",
              "  .colab-df-quickchart:hover {\n",
              "    background-color: var(--hover-bg-color);\n",
              "    box-shadow: 0 1px 2px rgba(60, 64, 67, 0.3), 0 1px 3px 1px rgba(60, 64, 67, 0.15);\n",
              "    fill: var(--button-hover-fill-color);\n",
              "  }\n",
              "\n",
              "  .colab-df-quickchart-complete:disabled,\n",
              "  .colab-df-quickchart-complete:disabled:hover {\n",
              "    background-color: var(--disabled-bg-color);\n",
              "    fill: var(--disabled-fill-color);\n",
              "    box-shadow: none;\n",
              "  }\n",
              "\n",
              "  .colab-df-spinner {\n",
              "    border: 2px solid var(--fill-color);\n",
              "    border-color: transparent;\n",
              "    border-bottom-color: var(--fill-color);\n",
              "    animation:\n",
              "      spin 1s steps(1) infinite;\n",
              "  }\n",
              "\n",
              "  @keyframes spin {\n",
              "    0% {\n",
              "      border-color: transparent;\n",
              "      border-bottom-color: var(--fill-color);\n",
              "      border-left-color: var(--fill-color);\n",
              "    }\n",
              "    20% {\n",
              "      border-color: transparent;\n",
              "      border-left-color: var(--fill-color);\n",
              "      border-top-color: var(--fill-color);\n",
              "    }\n",
              "    30% {\n",
              "      border-color: transparent;\n",
              "      border-left-color: var(--fill-color);\n",
              "      border-top-color: var(--fill-color);\n",
              "      border-right-color: var(--fill-color);\n",
              "    }\n",
              "    40% {\n",
              "      border-color: transparent;\n",
              "      border-right-color: var(--fill-color);\n",
              "      border-top-color: var(--fill-color);\n",
              "    }\n",
              "    60% {\n",
              "      border-color: transparent;\n",
              "      border-right-color: var(--fill-color);\n",
              "    }\n",
              "    80% {\n",
              "      border-color: transparent;\n",
              "      border-right-color: var(--fill-color);\n",
              "      border-bottom-color: var(--fill-color);\n",
              "    }\n",
              "    90% {\n",
              "      border-color: transparent;\n",
              "      border-bottom-color: var(--fill-color);\n",
              "    }\n",
              "  }\n",
              "</style>\n",
              "\n",
              "  <script>\n",
              "    async function quickchart(key) {\n",
              "      const quickchartButtonEl =\n",
              "        document.querySelector('#' + key + ' button');\n",
              "      quickchartButtonEl.disabled = true;  // To prevent multiple clicks.\n",
              "      quickchartButtonEl.classList.add('colab-df-spinner');\n",
              "      try {\n",
              "        const charts = await google.colab.kernel.invokeFunction(\n",
              "            'suggestCharts', [key], {});\n",
              "      } catch (error) {\n",
              "        console.error('Error during call to suggestCharts:', error);\n",
              "      }\n",
              "      quickchartButtonEl.classList.remove('colab-df-spinner');\n",
              "      quickchartButtonEl.classList.add('colab-df-quickchart-complete');\n",
              "    }\n",
              "    (() => {\n",
              "      let quickchartButtonEl =\n",
              "        document.querySelector('#df-f322ff8a-6680-4efe-99f6-f982a1b8ed93 button');\n",
              "      quickchartButtonEl.style.display =\n",
              "        google.colab.kernel.accessAllowed ? 'block' : 'none';\n",
              "    })();\n",
              "  </script>\n",
              "</div>\n",
              "\n",
              "    </div>\n",
              "  </div>\n"
            ],
            "application/vnd.google.colaboratory.intrinsic+json": {
              "type": "dataframe",
              "variable_name": "df",
              "summary": "{\n  \"name\": \"df\",\n  \"rows\": 1664,\n  \"fields\": [\n    {\n      \"column\": \"Date\",\n      \"properties\": {\n        \"dtype\": \"object\",\n        \"num_unique_values\": 1664,\n        \"samples\": [\n          \"8-Nov-11\",\n          \"9-Dec-16\",\n          \"27-Sep-16\"\n        ],\n        \"semantic_type\": \"\",\n        \"description\": \"\"\n      }\n    },\n    {\n      \"column\": \"Open\",\n      \"properties\": {\n        \"dtype\": \"number\",\n        \"std\": 28.25835972676523,\n        \"min\": 45.24,\n        \"max\": 159.9,\n        \"num_unique_values\": 1522,\n        \"samples\": [\n          126.09,\n          77.24,\n          48.94\n        ],\n        \"semantic_type\": \"\",\n        \"description\": \"\"\n      }\n    },\n    {\n      \"column\": \"High\",\n      \"properties\": {\n        \"dtype\": \"number\",\n        \"std\": 28.42184968381009,\n        \"min\": 45.39,\n        \"max\": 161.83,\n        \"num_unique_values\": 1510,\n        \"samples\": [\n          69.95,\n          111.44,\n          66.3\n        ],\n        \"semantic_type\": \"\",\n        \"description\": \"\"\n      }\n    },\n    {\n      \"column\": \"Low\",\n      \"properties\": {\n        \"dtype\": \"number\",\n        \"std\": 28.094247557075096,\n        \"min\": 44.36,\n        \"max\": 159.11,\n        \"num_unique_values\": 1498,\n        \"samples\": [\n          60.11,\n          53.64,\n          49.79\n        ],\n        \"semantic_type\": \"\",\n        \"description\": \"\"\n      }\n    },\n    {\n      \"column\": \"Close\",\n      \"properties\": {\n        \"dtype\": \"number\",\n        \"std\": 28.27235123140802,\n        \"min\": 45.05,\n        \"max\": 161.06,\n        \"num_unique_values\": 1498,\n        \"samples\": [\n          65.74,\n          51.94,\n          50.1\n        ],\n        \"semantic_type\": \"\",\n        \"description\": \"\"\n      }\n    },\n    {\n      \"column\": \"Volume\",\n      \"properties\": {\n        \"dtype\": \"number\",\n        \"std\": 54461905,\n        \"min\": 11475922,\n        \"max\": 470246700,\n        \"num_unique_values\": 1664,\n        \"samples\": [\n          100109842,\n          34402627,\n          24607412\n        ],\n        \"semantic_type\": \"\",\n        \"description\": \"\"\n      }\n    }\n  ]\n}"
            }
          },
          "metadata": {},
          "execution_count": 3
        }
      ]
    },
    {
      "cell_type": "code",
      "source": [
        "df.shape"
      ],
      "metadata": {
        "execution": {
          "iopub.status.busy": "2021-10-27T14:18:12.083155Z",
          "iopub.execute_input": "2021-10-27T14:18:12.083544Z",
          "iopub.status.idle": "2021-10-27T14:18:12.088894Z",
          "shell.execute_reply.started": "2021-10-27T14:18:12.083509Z",
          "shell.execute_reply": "2021-10-27T14:18:12.088294Z"
        },
        "trusted": true,
        "id": "tyBeKb9bQ-3B",
        "colab": {
          "base_uri": "https://localhost:8080/"
        },
        "outputId": "8452a001-4662-42aa-d596-e9ee5ac79b18"
      },
      "execution_count": 4,
      "outputs": [
        {
          "output_type": "execute_result",
          "data": {
            "text/plain": [
              "(1664, 6)"
            ]
          },
          "metadata": {},
          "execution_count": 4
        }
      ]
    },
    {
      "cell_type": "code",
      "source": [
        "df1=df.reset_index()['Close'];df1"
      ],
      "metadata": {
        "execution": {
          "iopub.status.busy": "2021-10-27T14:18:12.090021Z",
          "iopub.execute_input": "2021-10-27T14:18:12.090634Z",
          "iopub.status.idle": "2021-10-27T14:18:12.113555Z",
          "shell.execute_reply.started": "2021-10-27T14:18:12.090589Z",
          "shell.execute_reply": "2021-10-27T14:18:12.11222Z"
        },
        "trusted": true,
        "id": "ptox1LYJQ-3B",
        "colab": {
          "base_uri": "https://localhost:8080/"
        },
        "outputId": "ba8d8b1d-c86b-4ca5-fab6-54087195ead6"
      },
      "execution_count": 9,
      "outputs": [
        {
          "output_type": "execute_result",
          "data": {
            "text/plain": [
              "0       157.48\n",
              "1       155.32\n",
              "2       161.06\n",
              "3       160.08\n",
              "4       158.81\n",
              "         ...  \n",
              "1659     48.02\n",
              "1660     47.68\n",
              "1661     47.71\n",
              "1662     47.33\n",
              "1663     47.08\n",
              "Name: Close, Length: 1664, dtype: float64"
            ]
          },
          "metadata": {},
          "execution_count": 9
        }
      ]
    },
    {
      "cell_type": "code",
      "source": [
        "plt.plot(df1);plt.show()"
      ],
      "metadata": {
        "execution": {
          "iopub.status.busy": "2021-10-27T14:18:12.114878Z",
          "iopub.execute_input": "2021-10-27T14:18:12.115348Z",
          "iopub.status.idle": "2021-10-27T14:18:12.346789Z",
          "shell.execute_reply.started": "2021-10-27T14:18:12.115286Z",
          "shell.execute_reply": "2021-10-27T14:18:12.346039Z"
        },
        "trusted": true,
        "id": "4aFgCCrXQ-3B",
        "colab": {
          "base_uri": "https://localhost:8080/",
          "height": 430
        },
        "outputId": "e6cae8da-e521-45ad-f137-91de7f5e8e41"
      },
      "execution_count": 10,
      "outputs": [
        {
          "output_type": "display_data",
          "data": {
            "text/plain": [
              "<Figure size 640x480 with 1 Axes>"
            ],
            "image/png": "[encoded data removed]"
          },
          "metadata": {}
        }
      ]
    },
    {
      "cell_type": "code",
      "source": [
        "scaler=MinMaxScaler(feature_range=(0,1))\n",
        "df1=scaler.fit_transform(np.array(df1).reshape(-1,1));df1"
      ],
      "metadata": {
        "execution": {
          "iopub.status.busy": "2021-10-27T14:18:12.348063Z",
          "iopub.execute_input": "2021-10-27T14:18:12.348822Z",
          "iopub.status.idle": "2021-10-27T14:18:12.357955Z",
          "shell.execute_reply.started": "2021-10-27T14:18:12.348784Z",
          "shell.execute_reply": "2021-10-27T14:18:12.357283Z"
        },
        "trusted": true,
        "id": "4Ex7h7C_Q-3C",
        "colab": {
          "base_uri": "https://localhost:8080/"
        },
        "outputId": "a965f1e2-1886-456d-a62c-65d30a18ef88"
      },
      "execution_count": 11,
      "outputs": [
        {
          "output_type": "execute_result",
          "data": {
            "text/plain": [
              "array([[0.96914059],\n",
              "       [0.95052151],\n",
              "       [1.        ],\n",
              "       ...,\n",
              "       [0.02292906],\n",
              "       [0.01965348],\n",
              "       [0.01749849]])"
            ]
          },
          "metadata": {},
          "execution_count": 11
        }
      ]
    },
    {
      "cell_type": "code",
      "source": [
        "##splitting dataset into train and test split\n",
        "training_size=int(len(df1)*0.65)\n",
        "test_size=len(df1)-training_size\n",
        "train_data,test_data=df1[0:training_size,:],df1[training_size:len(df1),:1]\n",
        "print(training_size,test_size)"
      ],
      "metadata": {
        "execution": {
          "iopub.status.busy": "2021-10-27T14:18:12.359497Z",
          "iopub.execute_input": "2021-10-27T14:18:12.360021Z",
          "iopub.status.idle": "2021-10-27T14:18:12.367312Z",
          "shell.execute_reply.started": "2021-10-27T14:18:12.359981Z",
          "shell.execute_reply": "2021-10-27T14:18:12.366301Z"
        },
        "trusted": true,
        "id": "fByz5eHzQ-3C",
        "colab": {
          "base_uri": "https://localhost:8080/"
        },
        "outputId": "9db45888-dece-45f5-c8dc-753c71b73c9c"
      },
      "execution_count": 12,
      "outputs": [
        {
          "output_type": "stream",
          "name": "stdout",
          "text": [
            "1081 583\n"
          ]
        }
      ]
    },
    {
      "cell_type": "code",
      "source": [
        "#convert an array of values into a dataset matrix\n",
        "def create_dataset(dataset, time_step=1):\n",
        "    dataX, dataY = [], []\n",
        "    for i in range(len(dataset)-time_step-1):\n",
        "        a = dataset[i:(i+time_step), 0]   ###i=0, 0,1,2,3-----99   100\n",
        "        dataX.append(a)\n",
        "        dataY.append(dataset[i + time_step, 0])\n",
        "    return np.array(dataX), np.array(dataY)"
      ],
      "metadata": {
        "execution": {
          "iopub.status.busy": "2021-10-27T14:18:12.36882Z",
          "iopub.execute_input": "2021-10-27T14:18:12.369702Z",
          "iopub.status.idle": "2021-10-27T14:18:12.377582Z",
          "shell.execute_reply.started": "2021-10-27T14:18:12.369675Z",
          "shell.execute_reply": "2021-10-27T14:18:12.376779Z"
        },
        "trusted": true,
        "id": "s_VSolCPQ-3C"
      },
      "execution_count": 13,
      "outputs": []
    },
    {
      "cell_type": "code",
      "source": [
        "# reshape into X=t,t+1,t+2,t+3 and Y=t+4\n",
        "time_step = 100\n",
        "X_train, y_train = create_dataset(train_data, time_step)\n",
        "X_test, ytest = create_dataset(test_data, time_step)"
      ],
      "metadata": {
        "execution": {
          "iopub.status.busy": "2021-10-27T14:18:12.382313Z",
          "iopub.execute_input": "2021-10-27T14:18:12.382683Z",
          "iopub.status.idle": "2021-10-27T14:18:12.392826Z",
          "shell.execute_reply.started": "2021-10-27T14:18:12.382653Z",
          "shell.execute_reply": "2021-10-27T14:18:12.39183Z"
        },
        "trusted": true,
        "id": "1usyEu3YQ-3C"
      },
      "execution_count": 14,
      "outputs": []
    },
    {
      "cell_type": "code",
      "source": [
        "print(X_train.shape), print(y_train.shape),print(X_test.shape), print(ytest.shape)"
      ],
      "metadata": {
        "execution": {
          "iopub.status.busy": "2021-10-27T14:18:12.394841Z",
          "iopub.execute_input": "2021-10-27T14:18:12.395503Z",
          "iopub.status.idle": "2021-10-27T14:18:12.403876Z",
          "shell.execute_reply.started": "2021-10-27T14:18:12.395469Z",
          "shell.execute_reply": "2021-10-27T14:18:12.40312Z"
        },
        "trusted": true,
        "id": "EvtpYxttQ-3C",
        "colab": {
          "base_uri": "https://localhost:8080/"
        },
        "outputId": "29b98f40-ba06-47f1-95cb-d417b8689c51"
      },
      "execution_count": 15,
      "outputs": [
        {
          "output_type": "stream",
          "name": "stdout",
          "text": [
            "(980, 100)\n",
            "(980,)\n",
            "(482, 100)\n",
            "(482,)\n"
          ]
        },
        {
          "output_type": "execute_result",
          "data": {
            "text/plain": [
              "(None, None, None, None)"
            ]
          },
          "metadata": {},
          "execution_count": 15
        }
      ]
    },
    {
      "cell_type": "code",
      "source": [
        "X_train =X_train.reshape(X_train.shape[0],X_train.shape[1] , 1)\n",
        "X_test = X_test.reshape(X_test.shape[0],X_test.shape[1] , 1)"
      ],
      "metadata": {
        "execution": {
          "iopub.status.busy": "2021-10-27T14:18:12.405284Z",
          "iopub.execute_input": "2021-10-27T14:18:12.405776Z",
          "iopub.status.idle": "2021-10-27T14:18:12.411709Z",
          "shell.execute_reply.started": "2021-10-27T14:18:12.405738Z",
          "shell.execute_reply": "2021-10-27T14:18:12.410667Z"
        },
        "trusted": true,
        "id": "HEQmUu8_Q-3C"
      },
      "execution_count": 16,
      "outputs": []
    },
    {
      "cell_type": "code",
      "source": [
        "model=Sequential()\n",
        "model.add(LSTM(50,return_sequences=True,input_shape=(100,1)))\n",
        "model.add(LSTM(50,return_sequences=True))\n",
        "model.add(LSTM(50))\n",
        "model.add(Dense(1))\n",
        "model.compile(loss='mse',optimizer='adam')\n",
        "model.summary()"
      ],
      "metadata": {
        "execution": {
          "iopub.status.busy": "2021-10-27T14:18:12.413304Z",
          "iopub.execute_input": "2021-10-27T14:18:12.414139Z",
          "iopub.status.idle": "2021-10-27T14:18:15.653309Z",
          "shell.execute_reply.started": "2021-10-27T14:18:12.414088Z",
          "shell.execute_reply": "2021-10-27T14:18:15.65245Z"
        },
        "trusted": true,
        "id": "4xwlZV6kQ-3D",
        "colab": {
          "base_uri": "https://localhost:8080/"
        },
        "outputId": "c48e126d-f16c-4ce0-dfb5-e65946e51330"
      },
      "execution_count": 17,
      "outputs": [
        {
          "output_type": "stream",
          "name": "stdout",
          "text": [
            "Model: \"sequential\"\n",
            "_________________________________________________________________\n",
            " Layer (type)                Output Shape              Param #   \n",
            "=================================================================\n",
            " lstm (LSTM)                 (None, 100, 50)           10400     \n",
            "                                                                 \n",
            " lstm_1 (LSTM)               (None, 100, 50)           20200     \n",
            "                                                                 \n",
            " lstm_2 (LSTM)               (None, 50)                20200     \n",
            "                                                                 \n",
            " dense (Dense)               (None, 1)                 51        \n",
            "                                                                 \n",
            "=================================================================\n",
            "Total params: 50851 (198.64 KB)\n",
            "Trainable params: 50851 (198.64 KB)\n",
            "Non-trainable params: 0 (0.00 Byte)\n",
            "_________________________________________________________________\n"
          ]
        }
      ]
    },
    {
      "cell_type": "code",
      "source": [
        "history=model.fit(X_train,y_train,validation_data=(X_test,ytest),epochs=100,batch_size=64,verbose=0)"
      ],
      "metadata": {
        "execution": {
          "iopub.status.busy": "2021-10-27T14:18:15.654447Z",
          "iopub.execute_input": "2021-10-27T14:18:15.655279Z",
          "iopub.status.idle": "2021-10-27T14:18:49.721099Z",
          "shell.execute_reply.started": "2021-10-27T14:18:15.655225Z",
          "shell.execute_reply": "2021-10-27T14:18:49.720356Z"
        },
        "trusted": true,
        "id": "A5BGRUVsQ-3D"
      },
      "execution_count": 19,
      "outputs": []
    },
    {
      "cell_type": "code",
      "source": [
        "# Show the learning curves\n",
        "history_df = pd.DataFrame(history.history)\n",
        "history_df.loc[:, ['loss', 'val_loss']].plot();\n"
      ],
      "metadata": {
        "execution": {
          "iopub.status.busy": "2021-10-27T14:18:49.722387Z",
          "iopub.execute_input": "2021-10-27T14:18:49.722635Z",
          "iopub.status.idle": "2021-10-27T14:18:49.967704Z",
          "shell.execute_reply.started": "2021-10-27T14:18:49.722601Z",
          "shell.execute_reply": "2021-10-27T14:18:49.967034Z"
        },
        "trusted": true,
        "id": "0ZhX4OepQ-3D",
        "colab": {
          "base_uri": "https://localhost:8080/",
          "height": 432
        },
        "outputId": "689e1c23-2625-4f13-8ce9-02849e272458"
      },
      "execution_count": 20,
      "outputs": [
        {
          "output_type": "display_data",
          "data": {
            "text/plain": [
              "<Figure size 640x480 with 1 Axes>"
            ],
            "image/png": "[encoded data removed]"
          },
          "metadata": {}
        }
      ]
    },
    {
      "cell_type": "code",
      "source": [
        "train_predict=model.predict(X_train) #prediction\n",
        "test_predict=model.predict(X_test)"
      ],
      "metadata": {
        "execution": {
          "iopub.status.busy": "2021-10-27T14:18:49.969081Z",
          "iopub.execute_input": "2021-10-27T14:18:49.969552Z",
          "iopub.status.idle": "2021-10-27T14:18:51.052201Z",
          "shell.execute_reply.started": "2021-10-27T14:18:49.969514Z",
          "shell.execute_reply": "2021-10-27T14:18:51.051475Z"
        },
        "trusted": true,
        "id": "tv3LIzrkQ-3D",
        "colab": {
          "base_uri": "https://localhost:8080/"
        },
        "outputId": "211bfd5c-c226-4bd7-e450-98bce80f7a0c"
      },
      "execution_count": 21,
      "outputs": [
        {
          "output_type": "stream",
          "name": "stdout",
          "text": [
            "31/31 [==============================] - 3s 36ms/step\n",
            "16/16 [==============================] - 1s 34ms/step\n"
          ]
        }
      ]
    },
    {
      "cell_type": "code",
      "source": [
        "##Transformback to original form\n",
        "train_predict=scaler.inverse_transform(train_predict)\n",
        "test_predict=scaler.inverse_transform(test_predict)"
      ],
      "metadata": {
        "execution": {
          "iopub.status.busy": "2021-10-27T14:18:51.053704Z",
          "iopub.execute_input": "2021-10-27T14:18:51.053947Z",
          "iopub.status.idle": "2021-10-27T14:18:51.058627Z",
          "shell.execute_reply.started": "2021-10-27T14:18:51.053912Z",
          "shell.execute_reply": "2021-10-27T14:18:51.057597Z"
        },
        "trusted": true,
        "id": "qABTD2GhQ-3D"
      },
      "execution_count": 22,
      "outputs": []
    },
    {
      "cell_type": "code",
      "source": [
        "#Calculate RMSE performance metrics\n",
        "from sklearn.metrics import mean_squared_error\n",
        "print(math.sqrt(mean_squared_error(y_train,train_predict)))\n",
        "print(math.sqrt(mean_squared_error(ytest,test_predict)))"
      ],
      "metadata": {
        "execution": {
          "iopub.status.busy": "2021-10-27T14:18:51.060053Z",
          "iopub.execute_input": "2021-10-27T14:18:51.060659Z",
          "iopub.status.idle": "2021-10-27T14:18:51.098738Z",
          "shell.execute_reply.started": "2021-10-27T14:18:51.060623Z",
          "shell.execute_reply": "2021-10-27T14:18:51.09792Z"
        },
        "trusted": true,
        "id": "Kk1lV5k9Q-3D",
        "colab": {
          "base_uri": "https://localhost:8080/"
        },
        "outputId": "97bf7d2f-a7ed-40ac-f228-5591d291ecf3"
      },
      "execution_count": 23,
      "outputs": [
        {
          "output_type": "stream",
          "name": "stdout",
          "text": [
            "103.14049442932959\n",
            "69.4164778535983\n"
          ]
        }
      ]
    },
    {
      "cell_type": "code",
      "source": [
        "# shift train predictions for plotting\n",
        "look_back=100\n",
        "trainPredictPlot = np.empty_like(df1)\n",
        "trainPredictPlot[:, :] = np.nan\n",
        "trainPredictPlot[look_back:len(train_predict)+look_back, :] = train_predict\n",
        "# shift test predictions for plotting\n",
        "testPredictPlot = np.empty_like(df1)\n",
        "testPredictPlot[:, :] = np.nan\n",
        "testPredictPlot[len(train_predict)+(look_back*2)+1:len(df1)-1, :] = test_predict\n",
        "# plot baseline and predictions\n",
        "plt.plot(scaler.inverse_transform(df1))\n",
        "plt.plot(trainPredictPlot)\n",
        "plt.plot(testPredictPlot)\n",
        "plt.legend()\n",
        "plt.show()"
      ],
      "metadata": {
        "execution": {
          "iopub.status.busy": "2021-10-27T14:18:51.100083Z",
          "iopub.execute_input": "2021-10-27T14:18:51.100338Z",
          "iopub.status.idle": "2021-10-27T14:18:51.3145Z",
          "shell.execute_reply.started": "2021-10-27T14:18:51.100305Z",
          "shell.execute_reply": "2021-10-27T14:18:51.313793Z"
        },
        "trusted": true,
        "id": "EoigROmaQ-3D",
        "colab": {
          "base_uri": "https://localhost:8080/",
          "height": 447
        },
        "outputId": "d28db3b1-41e1-41e6-9635-2bad7a7c7985"
      },
      "execution_count": 24,
      "outputs": [
        {
          "output_type": "stream",
          "name": "stderr",
          "text": [
            "WARNING:matplotlib.legend:No artists with labels found to put in legend.  Note that artists whose label start with an underscore are ignored when legend() is called with no argument.\n"
          ]
        },
        {
          "output_type": "display_data",
          "data": {
            "text/plain": [
              "<Figure size 640x480 with 1 Axes>"
            ],
            "image/png": "[encoded data removed]"
          },
          "metadata": {}
        }
      ]
    },
    {
      "cell_type": "code",
      "source": [
        "x_input=test_data[483:].reshape(1,-1) #len(test_data)\n",
        "temp_input=list(x_input)\n",
        "temp_input=temp_input[0].tolist()"
      ],
      "metadata": {
        "execution": {
          "iopub.status.busy": "2021-10-27T14:18:51.31554Z",
          "iopub.execute_input": "2021-10-27T14:18:51.316342Z",
          "iopub.status.idle": "2021-10-27T14:18:51.320636Z",
          "shell.execute_reply.started": "2021-10-27T14:18:51.316305Z",
          "shell.execute_reply": "2021-10-27T14:18:51.319891Z"
        },
        "trusted": true,
        "id": "igVMQDxkQ-3D"
      },
      "execution_count": 25,
      "outputs": []
    },
    {
      "cell_type": "code",
      "source": [
        "# demonstrate prediction for next 10 days\n",
        "lst_output=[]\n",
        "n_steps=100\n",
        "i=0\n",
        "while(i<30):\n",
        "\n",
        "    if(len(temp_input)>100):\n",
        "        #print(temp_input)\n",
        "        x_input=np.array(temp_input[1:])\n",
        "        print(\"{} day input {}\".format(i,x_input))\n",
        "        x_input=x_input.reshape(1,-1)\n",
        "        x_input = x_input.reshape((1, n_steps, 1))\n",
        "        #print(x_input)\n",
        "        yhat = model.predict(x_input, verbose=0)\n",
        "        print(\"{} day output {}\".format(i,yhat))\n",
        "        temp_input.extend(yhat[0].tolist())\n",
        "        temp_input=temp_input[1:]\n",
        "        #print(temp_input)\n",
        "        lst_output.extend(yhat.tolist())\n",
        "        i=i+1\n",
        "    else:\n",
        "        x_input = x_input.reshape((1, n_steps,1))\n",
        "        yhat = model.predict(x_input, verbose=0)\n",
        "        print(yhat[0])\n",
        "        temp_input.extend(yhat[0].tolist())\n",
        "        print(len(temp_input))\n",
        "        lst_output.extend(yhat.tolist())\n",
        "        i=i+1\n",
        "\n",
        "\n",
        "print(lst_output)"
      ],
      "metadata": {
        "execution": {
          "iopub.status.busy": "2021-10-27T14:18:51.321979Z",
          "iopub.execute_input": "2021-10-27T14:18:51.322604Z",
          "iopub.status.idle": "2021-10-27T14:18:52.574735Z",
          "shell.execute_reply.started": "2021-10-27T14:18:51.322523Z",
          "shell.execute_reply": "2021-10-27T14:18:52.573928Z"
        },
        "trusted": true,
        "id": "SQqT9XysQ-3D",
        "colab": {
          "base_uri": "https://localhost:8080/"
        },
        "outputId": "2cb6b5de-d61e-4c71-cf97-76bd2c5680d0"
      },
      "execution_count": 26,
      "outputs": [
        {
          "output_type": "stream",
          "name": "stdout",
          "text": [
            "[0.03042993]\n",
            "101\n",
            "1 day input [0.02077407 0.02344625 0.02448065 0.03103181 0.03016981 0.02560124\n",
            " 0.02206706 0.03094561 0.03844496 0.03922076 0.04197914 0.03973795\n",
            " 0.03853116 0.03870356 0.04215154 0.04042755 0.03810016 0.04284113\n",
            " 0.03870356 0.04284113 0.04318593 0.04637531 0.04353073 0.03335919\n",
            " 0.02775623 0.02034307 0.01491251 0.02103267 0.02560124 0.02103267\n",
            " 0.01905008 0.02430825 0.02801483 0.02792863 0.02896302 0.0318076\n",
            " 0.03594518 0.04085855 0.04094475 0.04387553 0.04318593 0.04456512\n",
            " 0.03646237 0.02939402 0.0318076  0.02948022 0.01887768 0.02379105\n",
            " 0.01801569 0.03706577 0.04706491 0.04508232 0.03853116 0.04568572\n",
            " 0.04973709 0.04930609 0.05499526 0.05447806 0.04525472 0.04180674\n",
            " 0.04663391 0.04042755 0.03387639 0.03361779 0.02861822 0.04335833\n",
            " 0.05292647 0.05887423 0.05482286 0.05396087 0.05111628 0.0482717\n",
            " 0.05275407 0.0490475  0.04499612 0.03835876 0.03456599 0.03568658\n",
            " 0.03654857 0.02948022 0.02551504 0.03430739 0.03508318 0.0320662\n",
            " 0.02723903 0.01396431 0.02137747 0.02896302 0.03111801 0.04077235\n",
            " 0.03732437 0.03577278 0.032411   0.03335919 0.02560124 0.02267046\n",
            " 0.02292906 0.01965348 0.01749849 0.03042993]\n",
            "1 day output [[0.03030638]]\n",
            "2 day input [0.02344625 0.02448065 0.03103181 0.03016981 0.02560124 0.02206706\n",
            " 0.03094561 0.03844496 0.03922076 0.04197914 0.03973795 0.03853116\n",
            " 0.03870356 0.04215154 0.04042755 0.03810016 0.04284113 0.03870356\n",
            " 0.04284113 0.04318593 0.04637531 0.04353073 0.03335919 0.02775623\n",
            " 0.02034307 0.01491251 0.02103267 0.02560124 0.02103267 0.01905008\n",
            " 0.02430825 0.02801483 0.02792863 0.02896302 0.0318076  0.03594518\n",
            " 0.04085855 0.04094475 0.04387553 0.04318593 0.04456512 0.03646237\n",
            " 0.02939402 0.0318076  0.02948022 0.01887768 0.02379105 0.01801569\n",
            " 0.03706577 0.04706491 0.04508232 0.03853116 0.04568572 0.04973709\n",
            " 0.04930609 0.05499526 0.05447806 0.04525472 0.04180674 0.04663391\n",
            " 0.04042755 0.03387639 0.03361779 0.02861822 0.04335833 0.05292647\n",
            " 0.05887423 0.05482286 0.05396087 0.05111628 0.0482717  0.05275407\n",
            " 0.0490475  0.04499612 0.03835876 0.03456599 0.03568658 0.03654857\n",
            " 0.02948022 0.02551504 0.03430739 0.03508318 0.0320662  0.02723903\n",
            " 0.01396431 0.02137747 0.02896302 0.03111801 0.04077235 0.03732437\n",
            " 0.03577278 0.032411   0.03335919 0.02560124 0.02267046 0.02292906\n",
            " 0.01965348 0.01749849 0.03042993 0.03030638]\n",
            "2 day output [[0.03156412]]\n",
            "3 day input [0.02448065 0.03103181 0.03016981 0.02560124 0.02206706 0.03094561\n",
            " 0.03844496 0.03922076 0.04197914 0.03973795 0.03853116 0.03870356\n",
            " 0.04215154 0.04042755 0.03810016 0.04284113 0.03870356 0.04284113\n",
            " 0.04318593 0.04637531 0.04353073 0.03335919 0.02775623 0.02034307\n",
            " 0.01491251 0.02103267 0.02560124 0.02103267 0.01905008 0.02430825\n",
            " 0.02801483 0.02792863 0.02896302 0.0318076  0.03594518 0.04085855\n",
            " 0.04094475 0.04387553 0.04318593 0.04456512 0.03646237 0.02939402\n",
            " 0.0318076  0.02948022 0.01887768 0.02379105 0.01801569 0.03706577\n",
            " 0.04706491 0.04508232 0.03853116 0.04568572 0.04973709 0.04930609\n",
            " 0.05499526 0.05447806 0.04525472 0.04180674 0.04663391 0.04042755\n",
            " 0.03387639 0.03361779 0.02861822 0.04335833 0.05292647 0.05887423\n",
            " 0.05482286 0.05396087 0.05111628 0.0482717  0.05275407 0.0490475\n",
            " 0.04499612 0.03835876 0.03456599 0.03568658 0.03654857 0.02948022\n",
            " 0.02551504 0.03430739 0.03508318 0.0320662  0.02723903 0.01396431\n",
            " 0.02137747 0.02896302 0.03111801 0.04077235 0.03732437 0.03577278\n",
            " 0.032411   0.03335919 0.02560124 0.02267046 0.02292906 0.01965348\n",
            " 0.01749849 0.03042993 0.03030638 0.03156412]\n",
            "3 day output [[0.03344094]]\n",
            "4 day input [0.03103181 0.03016981 0.02560124 0.02206706 0.03094561 0.03844496\n",
            " 0.03922076 0.04197914 0.03973795 0.03853116 0.03870356 0.04215154\n",
            " 0.04042755 0.03810016 0.04284113 0.03870356 0.04284113 0.04318593\n",
            " 0.04637531 0.04353073 0.03335919 0.02775623 0.02034307 0.01491251\n",
            " 0.02103267 0.02560124 0.02103267 0.01905008 0.02430825 0.02801483\n",
            " 0.02792863 0.02896302 0.0318076  0.03594518 0.04085855 0.04094475\n",
            " 0.04387553 0.04318593 0.04456512 0.03646237 0.02939402 0.0318076\n",
            " 0.02948022 0.01887768 0.02379105 0.01801569 0.03706577 0.04706491\n",
            " 0.04508232 0.03853116 0.04568572 0.04973709 0.04930609 0.05499526\n",
            " 0.05447806 0.04525472 0.04180674 0.04663391 0.04042755 0.03387639\n",
            " 0.03361779 0.02861822 0.04335833 0.05292647 0.05887423 0.05482286\n",
            " 0.05396087 0.05111628 0.0482717  0.05275407 0.0490475  0.04499612\n",
            " 0.03835876 0.03456599 0.03568658 0.03654857 0.02948022 0.02551504\n",
            " 0.03430739 0.03508318 0.0320662  0.02723903 0.01396431 0.02137747\n",
            " 0.02896302 0.03111801 0.04077235 0.03732437 0.03577278 0.032411\n",
            " 0.03335919 0.02560124 0.02267046 0.02292906 0.01965348 0.01749849\n",
            " 0.03042993 0.03030638 0.03156412 0.03344094]\n",
            "4 day output [[0.03547515]]\n",
            "5 day input [0.03016981 0.02560124 0.02206706 0.03094561 0.03844496 0.03922076\n",
            " 0.04197914 0.03973795 0.03853116 0.03870356 0.04215154 0.04042755\n",
            " 0.03810016 0.04284113 0.03870356 0.04284113 0.04318593 0.04637531\n",
            " 0.04353073 0.03335919 0.02775623 0.02034307 0.01491251 0.02103267\n",
            " 0.02560124 0.02103267 0.01905008 0.02430825 0.02801483 0.02792863\n",
            " 0.02896302 0.0318076  0.03594518 0.04085855 0.04094475 0.04387553\n",
            " 0.04318593 0.04456512 0.03646237 0.02939402 0.0318076  0.02948022\n",
            " 0.01887768 0.02379105 0.01801569 0.03706577 0.04706491 0.04508232\n",
            " 0.03853116 0.04568572 0.04973709 0.04930609 0.05499526 0.05447806\n",
            " 0.04525472 0.04180674 0.04663391 0.04042755 0.03387639 0.03361779\n",
            " 0.02861822 0.04335833 0.05292647 0.05887423 0.05482286 0.05396087\n",
            " 0.05111628 0.0482717  0.05275407 0.0490475  0.04499612 0.03835876\n",
            " 0.03456599 0.03568658 0.03654857 0.02948022 0.02551504 0.03430739\n",
            " 0.03508318 0.0320662  0.02723903 0.01396431 0.02137747 0.02896302\n",
            " 0.03111801 0.04077235 0.03732437 0.03577278 0.032411   0.03335919\n",
            " 0.02560124 0.02267046 0.02292906 0.01965348 0.01749849 0.03042993\n",
            " 0.03030638 0.03156412 0.03344094 0.03547515]\n",
            "5 day output [[0.03745829]]\n",
            "6 day input [0.02560124 0.02206706 0.03094561 0.03844496 0.03922076 0.04197914\n",
            " 0.03973795 0.03853116 0.03870356 0.04215154 0.04042755 0.03810016\n",
            " 0.04284113 0.03870356 0.04284113 0.04318593 0.04637531 0.04353073\n",
            " 0.03335919 0.02775623 0.02034307 0.01491251 0.02103267 0.02560124\n",
            " 0.02103267 0.01905008 0.02430825 0.02801483 0.02792863 0.02896302\n",
            " 0.0318076  0.03594518 0.04085855 0.04094475 0.04387553 0.04318593\n",
            " 0.04456512 0.03646237 0.02939402 0.0318076  0.02948022 0.01887768\n",
            " 0.02379105 0.01801569 0.03706577 0.04706491 0.04508232 0.03853116\n",
            " 0.04568572 0.04973709 0.04930609 0.05499526 0.05447806 0.04525472\n",
            " 0.04180674 0.04663391 0.04042755 0.03387639 0.03361779 0.02861822\n",
            " 0.04335833 0.05292647 0.05887423 0.05482286 0.05396087 0.05111628\n",
            " 0.0482717  0.05275407 0.0490475  0.04499612 0.03835876 0.03456599\n",
            " 0.03568658 0.03654857 0.02948022 0.02551504 0.03430739 0.03508318\n",
            " 0.0320662  0.02723903 0.01396431 0.02137747 0.02896302 0.03111801\n",
            " 0.04077235 0.03732437 0.03577278 0.032411   0.03335919 0.02560124\n",
            " 0.02267046 0.02292906 0.01965348 0.01749849 0.03042993 0.03030638\n",
            " 0.03156412 0.03344094 0.03547515 0.03745829]\n",
            "6 day output [[0.03932004]]\n",
            "7 day input [0.02206706 0.03094561 0.03844496 0.03922076 0.04197914 0.03973795\n",
            " 0.03853116 0.03870356 0.04215154 0.04042755 0.03810016 0.04284113\n",
            " 0.03870356 0.04284113 0.04318593 0.04637531 0.04353073 0.03335919\n",
            " 0.02775623 0.02034307 0.01491251 0.02103267 0.02560124 0.02103267\n",
            " 0.01905008 0.02430825 0.02801483 0.02792863 0.02896302 0.0318076\n",
            " 0.03594518 0.04085855 0.04094475 0.04387553 0.04318593 0.04456512\n",
            " 0.03646237 0.02939402 0.0318076  0.02948022 0.01887768 0.02379105\n",
            " 0.01801569 0.03706577 0.04706491 0.04508232 0.03853116 0.04568572\n",
            " 0.04973709 0.04930609 0.05499526 0.05447806 0.04525472 0.04180674\n",
            " 0.04663391 0.04042755 0.03387639 0.03361779 0.02861822 0.04335833\n",
            " 0.05292647 0.05887423 0.05482286 0.05396087 0.05111628 0.0482717\n",
            " 0.05275407 0.0490475  0.04499612 0.03835876 0.03456599 0.03568658\n",
            " 0.03654857 0.02948022 0.02551504 0.03430739 0.03508318 0.0320662\n",
            " 0.02723903 0.01396431 0.02137747 0.02896302 0.03111801 0.04077235\n",
            " 0.03732437 0.03577278 0.032411   0.03335919 0.02560124 0.02267046\n",
            " 0.02292906 0.01965348 0.01749849 0.03042993 0.03030638 0.03156412\n",
            " 0.03344094 0.03547515 0.03745829 0.03932004]\n",
            "7 day output [[0.04104979]]\n",
            "8 day input [0.03094561 0.03844496 0.03922076 0.04197914 0.03973795 0.03853116\n",
            " 0.03870356 0.04215154 0.04042755 0.03810016 0.04284113 0.03870356\n",
            " 0.04284113 0.04318593 0.04637531 0.04353073 0.03335919 0.02775623\n",
            " 0.02034307 0.01491251 0.02103267 0.02560124 0.02103267 0.01905008\n",
            " 0.02430825 0.02801483 0.02792863 0.02896302 0.0318076  0.03594518\n",
            " 0.04085855 0.04094475 0.04387553 0.04318593 0.04456512 0.03646237\n",
            " 0.02939402 0.0318076  0.02948022 0.01887768 0.02379105 0.01801569\n",
            " 0.03706577 0.04706491 0.04508232 0.03853116 0.04568572 0.04973709\n",
            " 0.04930609 0.05499526 0.05447806 0.04525472 0.04180674 0.04663391\n",
            " 0.04042755 0.03387639 0.03361779 0.02861822 0.04335833 0.05292647\n",
            " 0.05887423 0.05482286 0.05396087 0.05111628 0.0482717  0.05275407\n",
            " 0.0490475  0.04499612 0.03835876 0.03456599 0.03568658 0.03654857\n",
            " 0.02948022 0.02551504 0.03430739 0.03508318 0.0320662  0.02723903\n",
            " 0.01396431 0.02137747 0.02896302 0.03111801 0.04077235 0.03732437\n",
            " 0.03577278 0.032411   0.03335919 0.02560124 0.02267046 0.02292906\n",
            " 0.01965348 0.01749849 0.03042993 0.03030638 0.03156412 0.03344094\n",
            " 0.03547515 0.03745829 0.03932004 0.04104979]\n",
            "8 day output [[0.0426583]]\n",
            "9 day input [0.03844496 0.03922076 0.04197914 0.03973795 0.03853116 0.03870356\n",
            " 0.04215154 0.04042755 0.03810016 0.04284113 0.03870356 0.04284113\n",
            " 0.04318593 0.04637531 0.04353073 0.03335919 0.02775623 0.02034307\n",
            " 0.01491251 0.02103267 0.02560124 0.02103267 0.01905008 0.02430825\n",
            " 0.02801483 0.02792863 0.02896302 0.0318076  0.03594518 0.04085855\n",
            " 0.04094475 0.04387553 0.04318593 0.04456512 0.03646237 0.02939402\n",
            " 0.0318076  0.02948022 0.01887768 0.02379105 0.01801569 0.03706577\n",
            " 0.04706491 0.04508232 0.03853116 0.04568572 0.04973709 0.04930609\n",
            " 0.05499526 0.05447806 0.04525472 0.04180674 0.04663391 0.04042755\n",
            " 0.03387639 0.03361779 0.02861822 0.04335833 0.05292647 0.05887423\n",
            " 0.05482286 0.05396087 0.05111628 0.0482717  0.05275407 0.0490475\n",
            " 0.04499612 0.03835876 0.03456599 0.03568658 0.03654857 0.02948022\n",
            " 0.02551504 0.03430739 0.03508318 0.0320662  0.02723903 0.01396431\n",
            " 0.02137747 0.02896302 0.03111801 0.04077235 0.03732437 0.03577278\n",
            " 0.032411   0.03335919 0.02560124 0.02267046 0.02292906 0.01965348\n",
            " 0.01749849 0.03042993 0.03030638 0.03156412 0.03344094 0.03547515\n",
            " 0.03745829 0.03932004 0.04104979 0.0426583 ]\n",
            "9 day output [[0.04416263]]\n",
            "10 day input [0.03922076 0.04197914 0.03973795 0.03853116 0.03870356 0.04215154\n",
            " 0.04042755 0.03810016 0.04284113 0.03870356 0.04284113 0.04318593\n",
            " 0.04637531 0.04353073 0.03335919 0.02775623 0.02034307 0.01491251\n",
            " 0.02103267 0.02560124 0.02103267 0.01905008 0.02430825 0.02801483\n",
            " 0.02792863 0.02896302 0.0318076  0.03594518 0.04085855 0.04094475\n",
            " 0.04387553 0.04318593 0.04456512 0.03646237 0.02939402 0.0318076\n",
            " 0.02948022 0.01887768 0.02379105 0.01801569 0.03706577 0.04706491\n",
            " 0.04508232 0.03853116 0.04568572 0.04973709 0.04930609 0.05499526\n",
            " 0.05447806 0.04525472 0.04180674 0.04663391 0.04042755 0.03387639\n",
            " 0.03361779 0.02861822 0.04335833 0.05292647 0.05887423 0.05482286\n",
            " 0.05396087 0.05111628 0.0482717  0.05275407 0.0490475  0.04499612\n",
            " 0.03835876 0.03456599 0.03568658 0.03654857 0.02948022 0.02551504\n",
            " 0.03430739 0.03508318 0.0320662  0.02723903 0.01396431 0.02137747\n",
            " 0.02896302 0.03111801 0.04077235 0.03732437 0.03577278 0.032411\n",
            " 0.03335919 0.02560124 0.02267046 0.02292906 0.01965348 0.01749849\n",
            " 0.03042993 0.03030638 0.03156412 0.03344094 0.03547515 0.03745829\n",
            " 0.03932004 0.04104979 0.0426583  0.04416263]\n",
            "10 day output [[0.04558085]]\n",
            "11 day input [0.04197914 0.03973795 0.03853116 0.03870356 0.04215154 0.04042755\n",
            " 0.03810016 0.04284113 0.03870356 0.04284113 0.04318593 0.04637531\n",
            " 0.04353073 0.03335919 0.02775623 0.02034307 0.01491251 0.02103267\n",
            " 0.02560124 0.02103267 0.01905008 0.02430825 0.02801483 0.02792863\n",
            " 0.02896302 0.0318076  0.03594518 0.04085855 0.04094475 0.04387553\n",
            " 0.04318593 0.04456512 0.03646237 0.02939402 0.0318076  0.02948022\n",
            " 0.01887768 0.02379105 0.01801569 0.03706577 0.04706491 0.04508232\n",
            " 0.03853116 0.04568572 0.04973709 0.04930609 0.05499526 0.05447806\n",
            " 0.04525472 0.04180674 0.04663391 0.04042755 0.03387639 0.03361779\n",
            " 0.02861822 0.04335833 0.05292647 0.05887423 0.05482286 0.05396087\n",
            " 0.05111628 0.0482717  0.05275407 0.0490475  0.04499612 0.03835876\n",
            " 0.03456599 0.03568658 0.03654857 0.02948022 0.02551504 0.03430739\n",
            " 0.03508318 0.0320662  0.02723903 0.01396431 0.02137747 0.02896302\n",
            " 0.03111801 0.04077235 0.03732437 0.03577278 0.032411   0.03335919\n",
            " 0.02560124 0.02267046 0.02292906 0.01965348 0.01749849 0.03042993\n",
            " 0.03030638 0.03156412 0.03344094 0.03547515 0.03745829 0.03932004\n",
            " 0.04104979 0.0426583  0.04416263 0.04558085]\n",
            "11 day output [[0.04693046]]\n",
            "12 day input [0.03973795 0.03853116 0.03870356 0.04215154 0.04042755 0.03810016\n",
            " 0.04284113 0.03870356 0.04284113 0.04318593 0.04637531 0.04353073\n",
            " 0.03335919 0.02775623 0.02034307 0.01491251 0.02103267 0.02560124\n",
            " 0.02103267 0.01905008 0.02430825 0.02801483 0.02792863 0.02896302\n",
            " 0.0318076  0.03594518 0.04085855 0.04094475 0.04387553 0.04318593\n",
            " 0.04456512 0.03646237 0.02939402 0.0318076  0.02948022 0.01887768\n",
            " 0.02379105 0.01801569 0.03706577 0.04706491 0.04508232 0.03853116\n",
            " 0.04568572 0.04973709 0.04930609 0.05499526 0.05447806 0.04525472\n",
            " 0.04180674 0.04663391 0.04042755 0.03387639 0.03361779 0.02861822\n",
            " 0.04335833 0.05292647 0.05887423 0.05482286 0.05396087 0.05111628\n",
            " 0.0482717  0.05275407 0.0490475  0.04499612 0.03835876 0.03456599\n",
            " 0.03568658 0.03654857 0.02948022 0.02551504 0.03430739 0.03508318\n",
            " 0.0320662  0.02723903 0.01396431 0.02137747 0.02896302 0.03111801\n",
            " 0.04077235 0.03732437 0.03577278 0.032411   0.03335919 0.02560124\n",
            " 0.02267046 0.02292906 0.01965348 0.01749849 0.03042993 0.03030638\n",
            " 0.03156412 0.03344094 0.03547515 0.03745829 0.03932004 0.04104979\n",
            " 0.0426583  0.04416263 0.04558085 0.04693046]\n",
            "12 day output [[0.04822749]]\n",
            "13 day input [0.03853116 0.03870356 0.04215154 0.04042755 0.03810016 0.04284113\n",
            " 0.03870356 0.04284113 0.04318593 0.04637531 0.04353073 0.03335919\n",
            " 0.02775623 0.02034307 0.01491251 0.02103267 0.02560124 0.02103267\n",
            " 0.01905008 0.02430825 0.02801483 0.02792863 0.02896302 0.0318076\n",
            " 0.03594518 0.04085855 0.04094475 0.04387553 0.04318593 0.04456512\n",
            " 0.03646237 0.02939402 0.0318076  0.02948022 0.01887768 0.02379105\n",
            " 0.01801569 0.03706577 0.04706491 0.04508232 0.03853116 0.04568572\n",
            " 0.04973709 0.04930609 0.05499526 0.05447806 0.04525472 0.04180674\n",
            " 0.04663391 0.04042755 0.03387639 0.03361779 0.02861822 0.04335833\n",
            " 0.05292647 0.05887423 0.05482286 0.05396087 0.05111628 0.0482717\n",
            " 0.05275407 0.0490475  0.04499612 0.03835876 0.03456599 0.03568658\n",
            " 0.03654857 0.02948022 0.02551504 0.03430739 0.03508318 0.0320662\n",
            " 0.02723903 0.01396431 0.02137747 0.02896302 0.03111801 0.04077235\n",
            " 0.03732437 0.03577278 0.032411   0.03335919 0.02560124 0.02267046\n",
            " 0.02292906 0.01965348 0.01749849 0.03042993 0.03030638 0.03156412\n",
            " 0.03344094 0.03547515 0.03745829 0.03932004 0.04104979 0.0426583\n",
            " 0.04416263 0.04558085 0.04693046 0.04822749]\n",
            "13 day output [[0.04948588]]\n",
            "14 day input [0.03870356 0.04215154 0.04042755 0.03810016 0.04284113 0.03870356\n",
            " 0.04284113 0.04318593 0.04637531 0.04353073 0.03335919 0.02775623\n",
            " 0.02034307 0.01491251 0.02103267 0.02560124 0.02103267 0.01905008\n",
            " 0.02430825 0.02801483 0.02792863 0.02896302 0.0318076  0.03594518\n",
            " 0.04085855 0.04094475 0.04387553 0.04318593 0.04456512 0.03646237\n",
            " 0.02939402 0.0318076  0.02948022 0.01887768 0.02379105 0.01801569\n",
            " 0.03706577 0.04706491 0.04508232 0.03853116 0.04568572 0.04973709\n",
            " 0.04930609 0.05499526 0.05447806 0.04525472 0.04180674 0.04663391\n",
            " 0.04042755 0.03387639 0.03361779 0.02861822 0.04335833 0.05292647\n",
            " 0.05887423 0.05482286 0.05396087 0.05111628 0.0482717  0.05275407\n",
            " 0.0490475  0.04499612 0.03835876 0.03456599 0.03568658 0.03654857\n",
            " 0.02948022 0.02551504 0.03430739 0.03508318 0.0320662  0.02723903\n",
            " 0.01396431 0.02137747 0.02896302 0.03111801 0.04077235 0.03732437\n",
            " 0.03577278 0.032411   0.03335919 0.02560124 0.02267046 0.02292906\n",
            " 0.01965348 0.01749849 0.03042993 0.03030638 0.03156412 0.03344094\n",
            " 0.03547515 0.03745829 0.03932004 0.04104979 0.0426583  0.04416263\n",
            " 0.04558085 0.04693046 0.04822749 0.04948588]\n",
            "14 day output [[0.05071716]]\n",
            "15 day input [0.04215154 0.04042755 0.03810016 0.04284113 0.03870356 0.04284113\n",
            " 0.04318593 0.04637531 0.04353073 0.03335919 0.02775623 0.02034307\n",
            " 0.01491251 0.02103267 0.02560124 0.02103267 0.01905008 0.02430825\n",
            " 0.02801483 0.02792863 0.02896302 0.0318076  0.03594518 0.04085855\n",
            " 0.04094475 0.04387553 0.04318593 0.04456512 0.03646237 0.02939402\n",
            " 0.0318076  0.02948022 0.01887768 0.02379105 0.01801569 0.03706577\n",
            " 0.04706491 0.04508232 0.03853116 0.04568572 0.04973709 0.04930609\n",
            " 0.05499526 0.05447806 0.04525472 0.04180674 0.04663391 0.04042755\n",
            " 0.03387639 0.03361779 0.02861822 0.04335833 0.05292647 0.05887423\n",
            " 0.05482286 0.05396087 0.05111628 0.0482717  0.05275407 0.0490475\n",
            " 0.04499612 0.03835876 0.03456599 0.03568658 0.03654857 0.02948022\n",
            " 0.02551504 0.03430739 0.03508318 0.0320662  0.02723903 0.01396431\n",
            " 0.02137747 0.02896302 0.03111801 0.04077235 0.03732437 0.03577278\n",
            " 0.032411   0.03335919 0.02560124 0.02267046 0.02292906 0.01965348\n",
            " 0.01749849 0.03042993 0.03030638 0.03156412 0.03344094 0.03547515\n",
            " 0.03745829 0.03932004 0.04104979 0.0426583  0.04416263 0.04558085\n",
            " 0.04693046 0.04822749 0.04948588 0.05071716]\n",
            "15 day output [[0.05193027]]\n",
            "16 day input [0.04042755 0.03810016 0.04284113 0.03870356 0.04284113 0.04318593\n",
            " 0.04637531 0.04353073 0.03335919 0.02775623 0.02034307 0.01491251\n",
            " 0.02103267 0.02560124 0.02103267 0.01905008 0.02430825 0.02801483\n",
            " 0.02792863 0.02896302 0.0318076  0.03594518 0.04085855 0.04094475\n",
            " 0.04387553 0.04318593 0.04456512 0.03646237 0.02939402 0.0318076\n",
            " 0.02948022 0.01887768 0.02379105 0.01801569 0.03706577 0.04706491\n",
            " 0.04508232 0.03853116 0.04568572 0.04973709 0.04930609 0.05499526\n",
            " 0.05447806 0.04525472 0.04180674 0.04663391 0.04042755 0.03387639\n",
            " 0.03361779 0.02861822 0.04335833 0.05292647 0.05887423 0.05482286\n",
            " 0.05396087 0.05111628 0.0482717  0.05275407 0.0490475  0.04499612\n",
            " 0.03835876 0.03456599 0.03568658 0.03654857 0.02948022 0.02551504\n",
            " 0.03430739 0.03508318 0.0320662  0.02723903 0.01396431 0.02137747\n",
            " 0.02896302 0.03111801 0.04077235 0.03732437 0.03577278 0.032411\n",
            " 0.03335919 0.02560124 0.02267046 0.02292906 0.01965348 0.01749849\n",
            " 0.03042993 0.03030638 0.03156412 0.03344094 0.03547515 0.03745829\n",
            " 0.03932004 0.04104979 0.0426583  0.04416263 0.04558085 0.04693046\n",
            " 0.04822749 0.04948588 0.05071716 0.05193027]\n",
            "16 day output [[0.05313166]]\n",
            "17 day input [0.03810016 0.04284113 0.03870356 0.04284113 0.04318593 0.04637531\n",
            " 0.04353073 0.03335919 0.02775623 0.02034307 0.01491251 0.02103267\n",
            " 0.02560124 0.02103267 0.01905008 0.02430825 0.02801483 0.02792863\n",
            " 0.02896302 0.0318076  0.03594518 0.04085855 0.04094475 0.04387553\n",
            " 0.04318593 0.04456512 0.03646237 0.02939402 0.0318076  0.02948022\n",
            " 0.01887768 0.02379105 0.01801569 0.03706577 0.04706491 0.04508232\n",
            " 0.03853116 0.04568572 0.04973709 0.04930609 0.05499526 0.05447806\n",
            " 0.04525472 0.04180674 0.04663391 0.04042755 0.03387639 0.03361779\n",
            " 0.02861822 0.04335833 0.05292647 0.05887423 0.05482286 0.05396087\n",
            " 0.05111628 0.0482717  0.05275407 0.0490475  0.04499612 0.03835876\n",
            " 0.03456599 0.03568658 0.03654857 0.02948022 0.02551504 0.03430739\n",
            " 0.03508318 0.0320662  0.02723903 0.01396431 0.02137747 0.02896302\n",
            " 0.03111801 0.04077235 0.03732437 0.03577278 0.032411   0.03335919\n",
            " 0.02560124 0.02267046 0.02292906 0.01965348 0.01749849 0.03042993\n",
            " 0.03030638 0.03156412 0.03344094 0.03547515 0.03745829 0.03932004\n",
            " 0.04104979 0.0426583  0.04416263 0.04558085 0.04693046 0.04822749\n",
            " 0.04948588 0.05071716 0.05193027 0.05313166]\n",
            "17 day output [[0.05432555]]\n",
            "18 day input [0.04284113 0.03870356 0.04284113 0.04318593 0.04637531 0.04353073\n",
            " 0.03335919 0.02775623 0.02034307 0.01491251 0.02103267 0.02560124\n",
            " 0.02103267 0.01905008 0.02430825 0.02801483 0.02792863 0.02896302\n",
            " 0.0318076  0.03594518 0.04085855 0.04094475 0.04387553 0.04318593\n",
            " 0.04456512 0.03646237 0.02939402 0.0318076  0.02948022 0.01887768\n",
            " 0.02379105 0.01801569 0.03706577 0.04706491 0.04508232 0.03853116\n",
            " 0.04568572 0.04973709 0.04930609 0.05499526 0.05447806 0.04525472\n",
            " 0.04180674 0.04663391 0.04042755 0.03387639 0.03361779 0.02861822\n",
            " 0.04335833 0.05292647 0.05887423 0.05482286 0.05396087 0.05111628\n",
            " 0.0482717  0.05275407 0.0490475  0.04499612 0.03835876 0.03456599\n",
            " 0.03568658 0.03654857 0.02948022 0.02551504 0.03430739 0.03508318\n",
            " 0.0320662  0.02723903 0.01396431 0.02137747 0.02896302 0.03111801\n",
            " 0.04077235 0.03732437 0.03577278 0.032411   0.03335919 0.02560124\n",
            " 0.02267046 0.02292906 0.01965348 0.01749849 0.03042993 0.03030638\n",
            " 0.03156412 0.03344094 0.03547515 0.03745829 0.03932004 0.04104979\n",
            " 0.0426583  0.04416263 0.04558085 0.04693046 0.04822749 0.04948588\n",
            " 0.05071716 0.05193027 0.05313166 0.05432555]\n",
            "18 day output [[0.05551425]]\n",
            "19 day input [0.03870356 0.04284113 0.04318593 0.04637531 0.04353073 0.03335919\n",
            " 0.02775623 0.02034307 0.01491251 0.02103267 0.02560124 0.02103267\n",
            " 0.01905008 0.02430825 0.02801483 0.02792863 0.02896302 0.0318076\n",
            " 0.03594518 0.04085855 0.04094475 0.04387553 0.04318593 0.04456512\n",
            " 0.03646237 0.02939402 0.0318076  0.02948022 0.01887768 0.02379105\n",
            " 0.01801569 0.03706577 0.04706491 0.04508232 0.03853116 0.04568572\n",
            " 0.04973709 0.04930609 0.05499526 0.05447806 0.04525472 0.04180674\n",
            " 0.04663391 0.04042755 0.03387639 0.03361779 0.02861822 0.04335833\n",
            " 0.05292647 0.05887423 0.05482286 0.05396087 0.05111628 0.0482717\n",
            " 0.05275407 0.0490475  0.04499612 0.03835876 0.03456599 0.03568658\n",
            " 0.03654857 0.02948022 0.02551504 0.03430739 0.03508318 0.0320662\n",
            " 0.02723903 0.01396431 0.02137747 0.02896302 0.03111801 0.04077235\n",
            " 0.03732437 0.03577278 0.032411   0.03335919 0.02560124 0.02267046\n",
            " 0.02292906 0.01965348 0.01749849 0.03042993 0.03030638 0.03156412\n",
            " 0.03344094 0.03547515 0.03745829 0.03932004 0.04104979 0.0426583\n",
            " 0.04416263 0.04558085 0.04693046 0.04822749 0.04948588 0.05071716\n",
            " 0.05193027 0.05313166 0.05432555 0.05551425]\n",
            "19 day output [[0.05669868]]\n",
            "20 day input [0.04284113 0.04318593 0.04637531 0.04353073 0.03335919 0.02775623\n",
            " 0.02034307 0.01491251 0.02103267 0.02560124 0.02103267 0.01905008\n",
            " 0.02430825 0.02801483 0.02792863 0.02896302 0.0318076  0.03594518\n",
            " 0.04085855 0.04094475 0.04387553 0.04318593 0.04456512 0.03646237\n",
            " 0.02939402 0.0318076  0.02948022 0.01887768 0.02379105 0.01801569\n",
            " 0.03706577 0.04706491 0.04508232 0.03853116 0.04568572 0.04973709\n",
            " 0.04930609 0.05499526 0.05447806 0.04525472 0.04180674 0.04663391\n",
            " 0.04042755 0.03387639 0.03361779 0.02861822 0.04335833 0.05292647\n",
            " 0.05887423 0.05482286 0.05396087 0.05111628 0.0482717  0.05275407\n",
            " 0.0490475  0.04499612 0.03835876 0.03456599 0.03568658 0.03654857\n",
            " 0.02948022 0.02551504 0.03430739 0.03508318 0.0320662  0.02723903\n",
            " 0.01396431 0.02137747 0.02896302 0.03111801 0.04077235 0.03732437\n",
            " 0.03577278 0.032411   0.03335919 0.02560124 0.02267046 0.02292906\n",
            " 0.01965348 0.01749849 0.03042993 0.03030638 0.03156412 0.03344094\n",
            " 0.03547515 0.03745829 0.03932004 0.04104979 0.0426583  0.04416263\n",
            " 0.04558085 0.04693046 0.04822749 0.04948588 0.05071716 0.05193027\n",
            " 0.05313166 0.05432555 0.05551425 0.05669868]\n",
            "20 day output [[0.05787868]]\n",
            "21 day input [0.04318593 0.04637531 0.04353073 0.03335919 0.02775623 0.02034307\n",
            " 0.01491251 0.02103267 0.02560124 0.02103267 0.01905008 0.02430825\n",
            " 0.02801483 0.02792863 0.02896302 0.0318076  0.03594518 0.04085855\n",
            " 0.04094475 0.04387553 0.04318593 0.04456512 0.03646237 0.02939402\n",
            " 0.0318076  0.02948022 0.01887768 0.02379105 0.01801569 0.03706577\n",
            " 0.04706491 0.04508232 0.03853116 0.04568572 0.04973709 0.04930609\n",
            " 0.05499526 0.05447806 0.04525472 0.04180674 0.04663391 0.04042755\n",
            " 0.03387639 0.03361779 0.02861822 0.04335833 0.05292647 0.05887423\n",
            " 0.05482286 0.05396087 0.05111628 0.0482717  0.05275407 0.0490475\n",
            " 0.04499612 0.03835876 0.03456599 0.03568658 0.03654857 0.02948022\n",
            " 0.02551504 0.03430739 0.03508318 0.0320662  0.02723903 0.01396431\n",
            " 0.02137747 0.02896302 0.03111801 0.04077235 0.03732437 0.03577278\n",
            " 0.032411   0.03335919 0.02560124 0.02267046 0.02292906 0.01965348\n",
            " 0.01749849 0.03042993 0.03030638 0.03156412 0.03344094 0.03547515\n",
            " 0.03745829 0.03932004 0.04104979 0.0426583  0.04416263 0.04558085\n",
            " 0.04693046 0.04822749 0.04948588 0.05071716 0.05193027 0.05313166\n",
            " 0.05432555 0.05551425 0.05669868 0.05787868]\n",
            "21 day output [[0.0590534]]\n",
            "22 day input [0.04637531 0.04353073 0.03335919 0.02775623 0.02034307 0.01491251\n",
            " 0.02103267 0.02560124 0.02103267 0.01905008 0.02430825 0.02801483\n",
            " 0.02792863 0.02896302 0.0318076  0.03594518 0.04085855 0.04094475\n",
            " 0.04387553 0.04318593 0.04456512 0.03646237 0.02939402 0.0318076\n",
            " 0.02948022 0.01887768 0.02379105 0.01801569 0.03706577 0.04706491\n",
            " 0.04508232 0.03853116 0.04568572 0.04973709 0.04930609 0.05499526\n",
            " 0.05447806 0.04525472 0.04180674 0.04663391 0.04042755 0.03387639\n",
            " 0.03361779 0.02861822 0.04335833 0.05292647 0.05887423 0.05482286\n",
            " 0.05396087 0.05111628 0.0482717  0.05275407 0.0490475  0.04499612\n",
            " 0.03835876 0.03456599 0.03568658 0.03654857 0.02948022 0.02551504\n",
            " 0.03430739 0.03508318 0.0320662  0.02723903 0.01396431 0.02137747\n",
            " 0.02896302 0.03111801 0.04077235 0.03732437 0.03577278 0.032411\n",
            " 0.03335919 0.02560124 0.02267046 0.02292906 0.01965348 0.01749849\n",
            " 0.03042993 0.03030638 0.03156412 0.03344094 0.03547515 0.03745829\n",
            " 0.03932004 0.04104979 0.0426583  0.04416263 0.04558085 0.04693046\n",
            " 0.04822749 0.04948588 0.05071716 0.05193027 0.05313166 0.05432555\n",
            " 0.05551425 0.05669868 0.05787868 0.0590534 ]\n",
            "22 day output [[0.0602217]]\n",
            "23 day input [0.04353073 0.03335919 0.02775623 0.02034307 0.01491251 0.02103267\n",
            " 0.02560124 0.02103267 0.01905008 0.02430825 0.02801483 0.02792863\n",
            " 0.02896302 0.0318076  0.03594518 0.04085855 0.04094475 0.04387553\n",
            " 0.04318593 0.04456512 0.03646237 0.02939402 0.0318076  0.02948022\n",
            " 0.01887768 0.02379105 0.01801569 0.03706577 0.04706491 0.04508232\n",
            " 0.03853116 0.04568572 0.04973709 0.04930609 0.05499526 0.05447806\n",
            " 0.04525472 0.04180674 0.04663391 0.04042755 0.03387639 0.03361779\n",
            " 0.02861822 0.04335833 0.05292647 0.05887423 0.05482286 0.05396087\n",
            " 0.05111628 0.0482717  0.05275407 0.0490475  0.04499612 0.03835876\n",
            " 0.03456599 0.03568658 0.03654857 0.02948022 0.02551504 0.03430739\n",
            " 0.03508318 0.0320662  0.02723903 0.01396431 0.02137747 0.02896302\n",
            " 0.03111801 0.04077235 0.03732437 0.03577278 0.032411   0.03335919\n",
            " 0.02560124 0.02267046 0.02292906 0.01965348 0.01749849 0.03042993\n",
            " 0.03030638 0.03156412 0.03344094 0.03547515 0.03745829 0.03932004\n",
            " 0.04104979 0.0426583  0.04416263 0.04558085 0.04693046 0.04822749\n",
            " 0.04948588 0.05071716 0.05193027 0.05313166 0.05432555 0.05551425\n",
            " 0.05669868 0.05787868 0.0590534  0.0602217 ]\n",
            "23 day output [[0.06138222]]\n",
            "24 day input [0.03335919 0.02775623 0.02034307 0.01491251 0.02103267 0.02560124\n",
            " 0.02103267 0.01905008 0.02430825 0.02801483 0.02792863 0.02896302\n",
            " 0.0318076  0.03594518 0.04085855 0.04094475 0.04387553 0.04318593\n",
            " 0.04456512 0.03646237 0.02939402 0.0318076  0.02948022 0.01887768\n",
            " 0.02379105 0.01801569 0.03706577 0.04706491 0.04508232 0.03853116\n",
            " 0.04568572 0.04973709 0.04930609 0.05499526 0.05447806 0.04525472\n",
            " 0.04180674 0.04663391 0.04042755 0.03387639 0.03361779 0.02861822\n",
            " 0.04335833 0.05292647 0.05887423 0.05482286 0.05396087 0.05111628\n",
            " 0.0482717  0.05275407 0.0490475  0.04499612 0.03835876 0.03456599\n",
            " 0.03568658 0.03654857 0.02948022 0.02551504 0.03430739 0.03508318\n",
            " 0.0320662  0.02723903 0.01396431 0.02137747 0.02896302 0.03111801\n",
            " 0.04077235 0.03732437 0.03577278 0.032411   0.03335919 0.02560124\n",
            " 0.02267046 0.02292906 0.01965348 0.01749849 0.03042993 0.03030638\n",
            " 0.03156412 0.03344094 0.03547515 0.03745829 0.03932004 0.04104979\n",
            " 0.0426583  0.04416263 0.04558085 0.04693046 0.04822749 0.04948588\n",
            " 0.05071716 0.05193027 0.05313166 0.05432555 0.05551425 0.05669868\n",
            " 0.05787868 0.0590534  0.0602217  0.06138222]\n",
            "24 day output [[0.06253378]]\n",
            "25 day input [0.02775623 0.02034307 0.01491251 0.02103267 0.02560124 0.02103267\n",
            " 0.01905008 0.02430825 0.02801483 0.02792863 0.02896302 0.0318076\n",
            " 0.03594518 0.04085855 0.04094475 0.04387553 0.04318593 0.04456512\n",
            " 0.03646237 0.02939402 0.0318076  0.02948022 0.01887768 0.02379105\n",
            " 0.01801569 0.03706577 0.04706491 0.04508232 0.03853116 0.04568572\n",
            " 0.04973709 0.04930609 0.05499526 0.05447806 0.04525472 0.04180674\n",
            " 0.04663391 0.04042755 0.03387639 0.03361779 0.02861822 0.04335833\n",
            " 0.05292647 0.05887423 0.05482286 0.05396087 0.05111628 0.0482717\n",
            " 0.05275407 0.0490475  0.04499612 0.03835876 0.03456599 0.03568658\n",
            " 0.03654857 0.02948022 0.02551504 0.03430739 0.03508318 0.0320662\n",
            " 0.02723903 0.01396431 0.02137747 0.02896302 0.03111801 0.04077235\n",
            " 0.03732437 0.03577278 0.032411   0.03335919 0.02560124 0.02267046\n",
            " 0.02292906 0.01965348 0.01749849 0.03042993 0.03030638 0.03156412\n",
            " 0.03344094 0.03547515 0.03745829 0.03932004 0.04104979 0.0426583\n",
            " 0.04416263 0.04558085 0.04693046 0.04822749 0.04948588 0.05071716\n",
            " 0.05193027 0.05313166 0.05432555 0.05551425 0.05669868 0.05787868\n",
            " 0.0590534  0.0602217  0.06138222 0.06253378]\n",
            "25 day output [[0.06367534]]\n",
            "26 day input [0.02034307 0.01491251 0.02103267 0.02560124 0.02103267 0.01905008\n",
            " 0.02430825 0.02801483 0.02792863 0.02896302 0.0318076  0.03594518\n",
            " 0.04085855 0.04094475 0.04387553 0.04318593 0.04456512 0.03646237\n",
            " 0.02939402 0.0318076  0.02948022 0.01887768 0.02379105 0.01801569\n",
            " 0.03706577 0.04706491 0.04508232 0.03853116 0.04568572 0.04973709\n",
            " 0.04930609 0.05499526 0.05447806 0.04525472 0.04180674 0.04663391\n",
            " 0.04042755 0.03387639 0.03361779 0.02861822 0.04335833 0.05292647\n",
            " 0.05887423 0.05482286 0.05396087 0.05111628 0.0482717  0.05275407\n",
            " 0.0490475  0.04499612 0.03835876 0.03456599 0.03568658 0.03654857\n",
            " 0.02948022 0.02551504 0.03430739 0.03508318 0.0320662  0.02723903\n",
            " 0.01396431 0.02137747 0.02896302 0.03111801 0.04077235 0.03732437\n",
            " 0.03577278 0.032411   0.03335919 0.02560124 0.02267046 0.02292906\n",
            " 0.01965348 0.01749849 0.03042993 0.03030638 0.03156412 0.03344094\n",
            " 0.03547515 0.03745829 0.03932004 0.04104979 0.0426583  0.04416263\n",
            " 0.04558085 0.04693046 0.04822749 0.04948588 0.05071716 0.05193027\n",
            " 0.05313166 0.05432555 0.05551425 0.05669868 0.05787868 0.0590534\n",
            " 0.0602217  0.06138222 0.06253378 0.06367534]\n",
            "26 day output [[0.0648061]]\n",
            "27 day input [0.01491251 0.02103267 0.02560124 0.02103267 0.01905008 0.02430825\n",
            " 0.02801483 0.02792863 0.02896302 0.0318076  0.03594518 0.04085855\n",
            " 0.04094475 0.04387553 0.04318593 0.04456512 0.03646237 0.02939402\n",
            " 0.0318076  0.02948022 0.01887768 0.02379105 0.01801569 0.03706577\n",
            " 0.04706491 0.04508232 0.03853116 0.04568572 0.04973709 0.04930609\n",
            " 0.05499526 0.05447806 0.04525472 0.04180674 0.04663391 0.04042755\n",
            " 0.03387639 0.03361779 0.02861822 0.04335833 0.05292647 0.05887423\n",
            " 0.05482286 0.05396087 0.05111628 0.0482717  0.05275407 0.0490475\n",
            " 0.04499612 0.03835876 0.03456599 0.03568658 0.03654857 0.02948022\n",
            " 0.02551504 0.03430739 0.03508318 0.0320662  0.02723903 0.01396431\n",
            " 0.02137747 0.02896302 0.03111801 0.04077235 0.03732437 0.03577278\n",
            " 0.032411   0.03335919 0.02560124 0.02267046 0.02292906 0.01965348\n",
            " 0.01749849 0.03042993 0.03030638 0.03156412 0.03344094 0.03547515\n",
            " 0.03745829 0.03932004 0.04104979 0.0426583  0.04416263 0.04558085\n",
            " 0.04693046 0.04822749 0.04948588 0.05071716 0.05193027 0.05313166\n",
            " 0.05432555 0.05551425 0.05669868 0.05787868 0.0590534  0.0602217\n",
            " 0.06138222 0.06253378 0.06367534 0.0648061 ]\n",
            "27 day output [[0.06592554]]\n",
            "28 day input [0.02103267 0.02560124 0.02103267 0.01905008 0.02430825 0.02801483\n",
            " 0.02792863 0.02896302 0.0318076  0.03594518 0.04085855 0.04094475\n",
            " 0.04387553 0.04318593 0.04456512 0.03646237 0.02939402 0.0318076\n",
            " 0.02948022 0.01887768 0.02379105 0.01801569 0.03706577 0.04706491\n",
            " 0.04508232 0.03853116 0.04568572 0.04973709 0.04930609 0.05499526\n",
            " 0.05447806 0.04525472 0.04180674 0.04663391 0.04042755 0.03387639\n",
            " 0.03361779 0.02861822 0.04335833 0.05292647 0.05887423 0.05482286\n",
            " 0.05396087 0.05111628 0.0482717  0.05275407 0.0490475  0.04499612\n",
            " 0.03835876 0.03456599 0.03568658 0.03654857 0.02948022 0.02551504\n",
            " 0.03430739 0.03508318 0.0320662  0.02723903 0.01396431 0.02137747\n",
            " 0.02896302 0.03111801 0.04077235 0.03732437 0.03577278 0.032411\n",
            " 0.03335919 0.02560124 0.02267046 0.02292906 0.01965348 0.01749849\n",
            " 0.03042993 0.03030638 0.03156412 0.03344094 0.03547515 0.03745829\n",
            " 0.03932004 0.04104979 0.0426583  0.04416263 0.04558085 0.04693046\n",
            " 0.04822749 0.04948588 0.05071716 0.05193027 0.05313166 0.05432555\n",
            " 0.05551425 0.05669868 0.05787868 0.0590534  0.0602217  0.06138222\n",
            " 0.06253378 0.06367534 0.0648061  0.06592554]\n",
            "28 day output [[0.06703343]]\n",
            "29 day input [0.02560124 0.02103267 0.01905008 0.02430825 0.02801483 0.02792863\n",
            " 0.02896302 0.0318076  0.03594518 0.04085855 0.04094475 0.04387553\n",
            " 0.04318593 0.04456512 0.03646237 0.02939402 0.0318076  0.02948022\n",
            " 0.01887768 0.02379105 0.01801569 0.03706577 0.04706491 0.04508232\n",
            " 0.03853116 0.04568572 0.04973709 0.04930609 0.05499526 0.05447806\n",
            " 0.04525472 0.04180674 0.04663391 0.04042755 0.03387639 0.03361779\n",
            " 0.02861822 0.04335833 0.05292647 0.05887423 0.05482286 0.05396087\n",
            " 0.05111628 0.0482717  0.05275407 0.0490475  0.04499612 0.03835876\n",
            " 0.03456599 0.03568658 0.03654857 0.02948022 0.02551504 0.03430739\n",
            " 0.03508318 0.0320662  0.02723903 0.01396431 0.02137747 0.02896302\n",
            " 0.03111801 0.04077235 0.03732437 0.03577278 0.032411   0.03335919\n",
            " 0.02560124 0.02267046 0.02292906 0.01965348 0.01749849 0.03042993\n",
            " 0.03030638 0.03156412 0.03344094 0.03547515 0.03745829 0.03932004\n",
            " 0.04104979 0.0426583  0.04416263 0.04558085 0.04693046 0.04822749\n",
            " 0.04948588 0.05071716 0.05193027 0.05313166 0.05432555 0.05551425\n",
            " 0.05669868 0.05787868 0.0590534  0.0602217  0.06138222 0.06253378\n",
            " 0.06367534 0.0648061  0.06592554 0.06703343]\n",
            "29 day output [[0.06812975]]\n",
            "[[0.030429929494857788], [0.030306382104754448], [0.03156412020325661], [0.03344094380736351], [0.03547515347599983], [0.03745829313993454], [0.039320044219493866], [0.041049789637327194], [0.04265829920768738], [0.044162627309560776], [0.045580845326185226], [0.0469304583966732], [0.04822748899459839], [0.04948588088154793], [0.05071715638041496], [0.051930271089076996], [0.05313166230916977], [0.05432554706931114], [0.055514249950647354], [0.05669867992401123], [0.057878680527210236], [0.05905340239405632], [0.06022169813513756], [0.061382219195365906], [0.06253378093242645], [0.06367533653974533], [0.06480609625577927], [0.06592553853988647], [0.06703343242406845], [0.06812974810600281]]\n"
          ]
        }
      ]
    },
    {
      "cell_type": "code",
      "source": [
        "day_new=np.arange(1,101)\n",
        "day_pred=np.arange(101,131)"
      ],
      "metadata": {
        "execution": {
          "iopub.status.busy": "2021-10-27T14:18:52.576139Z",
          "iopub.execute_input": "2021-10-27T14:18:52.576424Z",
          "iopub.status.idle": "2021-10-27T14:18:52.58112Z",
          "shell.execute_reply.started": "2021-10-27T14:18:52.576385Z",
          "shell.execute_reply": "2021-10-27T14:18:52.57996Z"
        },
        "trusted": true,
        "id": "8nbUXylMQ-3D"
      },
      "execution_count": 27,
      "outputs": []
    },
    {
      "cell_type": "code",
      "source": [
        "plt.plot(day_new,scaler.inverse_transform(df1[1564:])) #len(df1)\n",
        "plt.plot(day_pred,scaler.inverse_transform(lst_output))"
      ],
      "metadata": {
        "execution": {
          "iopub.status.busy": "2021-10-27T14:18:52.582718Z",
          "iopub.execute_input": "2021-10-27T14:18:52.58323Z",
          "iopub.status.idle": "2021-10-27T14:18:52.798783Z",
          "shell.execute_reply.started": "2021-10-27T14:18:52.583188Z",
          "shell.execute_reply": "2021-10-27T14:18:52.798058Z"
        },
        "trusted": true,
        "id": "Py0_6NqvQ-3D",
        "colab": {
          "base_uri": "https://localhost:8080/",
          "height": 447
        },
        "outputId": "67d9c6e6-dfe4-4da6-8942-7968aea5db49"
      },
      "execution_count": 28,
      "outputs": [
        {
          "output_type": "execute_result",
          "data": {
            "text/plain": [
              "[<matplotlib.lines.Line2D at 0x7a1b8db31360>]"
            ]
          },
          "metadata": {},
          "execution_count": 28
        },
        {
          "output_type": "display_data",
          "data": {
            "text/plain": [
              "<Figure size 640x480 with 1 Axes>"
            ],
            "image/png": "[encoded data removed]"
          },
          "metadata": {}
        }
      ]
    },
    {
      "cell_type": "code",
      "source": [
        "df3=df1.tolist()\n",
        "df3.extend(lst_output)\n",
        "df3=scaler.inverse_transform(df3).tolist()\n",
        "plt.plot(df3[1600:])"
      ],
      "metadata": {
        "execution": {
          "iopub.status.busy": "2021-10-27T14:19:48.679917Z",
          "iopub.execute_input": "2021-10-27T14:19:48.680188Z",
          "iopub.status.idle": "2021-10-27T14:19:48.876849Z",
          "shell.execute_reply.started": "2021-10-27T14:19:48.680157Z",
          "shell.execute_reply": "2021-10-27T14:19:48.876101Z"
        },
        "trusted": true,
        "id": "vZFN0k5FQ-3D",
        "colab": {
          "base_uri": "https://localhost:8080/",
          "height": 447
        },
        "outputId": "7240b8d9-b615-45a5-c8d2-cb9a5ffeee21"
      },
      "execution_count": 29,
      "outputs": [
        {
          "output_type": "execute_result",
          "data": {
            "text/plain": [
              "[<matplotlib.lines.Line2D at 0x7a1b850100a0>]"
            ]
          },
          "metadata": {},
          "execution_count": 29
        },
        {
          "output_type": "display_data",
          "data": {
            "text/plain": [
              "<Figure size 640x480 with 1 Axes>"
            ],
            "image/png": "[encoded data removed]"
          },
          "metadata": {}
        }
      ]
    },
    {
      "cell_type": "code",
      "source": [
        "plt.plot(df3)"
      ],
      "metadata": {
        "execution": {
          "iopub.status.busy": "2021-10-27T14:20:00.77917Z",
          "iopub.execute_input": "2021-10-27T14:20:00.779714Z",
          "iopub.status.idle": "2021-10-27T14:20:01.006078Z",
          "shell.execute_reply.started": "2021-10-27T14:20:00.779678Z",
          "shell.execute_reply": "2021-10-27T14:20:01.005101Z"
        },
        "trusted": true,
        "id": "obgAq9j7Q-3D",
        "colab": {
          "base_uri": "https://localhost:8080/",
          "height": 447
        },
        "outputId": "df066fbd-d182-466d-e171-f1dae70e6875"
      },
      "execution_count": 30,
      "outputs": [
        {
          "output_type": "execute_result",
          "data": {
            "text/plain": [
              "[<matplotlib.lines.Line2D at 0x7a1b8d712a10>]"
            ]
          },
          "metadata": {},
          "execution_count": 30
        },
        {
          "output_type": "display_data",
          "data": {
            "text/plain": [
              "<Figure size 640x480 with 1 Axes>"
            ],
            "image/png": "[encoded data removed]"
          },
          "metadata": {}
        }
      ]
    }
  ]
}